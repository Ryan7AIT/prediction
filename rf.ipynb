{
 "cells": [
  {
   "cell_type": "code",
   "execution_count": 1,
   "metadata": {},
   "outputs": [
    {
     "name": "stderr",
     "output_type": "stream",
     "text": [
      "24/05/11 13:31:04 WARN Utils: Your hostname, MacBook-Air-de-mac.local resolves to a loopback address: 127.0.0.1; using 192.168.1.7 instead (on interface en0)\n",
      "24/05/11 13:31:04 WARN Utils: Set SPARK_LOCAL_IP if you need to bind to another address\n",
      "Setting default log level to \"WARN\".\n",
      "To adjust logging level use sc.setLogLevel(newLevel). For SparkR, use setLogLevel(newLevel).\n",
      "24/05/11 13:31:04 WARN NativeCodeLoader: Unable to load native-hadoop library for your platform... using builtin-java classes where applicable\n",
      "                                                                                \r"
     ]
    }
   ],
   "source": [
    "from pyspark.sql import SparkSession\n",
    "from pyspark.sql.functions import col, udf, to_date, dayofweek, hour, lag, mean, lit, when,avg\n",
    "from pyspark.sql.window import Window\n",
    "import json\n",
    "from pyspark.sql.functions import rand, isnan, when\n",
    "from pyspark.sql.types import FloatType\n",
    "from pyspark.sql.functions import rand, round\n",
    "from keras.callbacks import TensorBoard\n",
    "from sklearn.preprocessing import MinMaxScaler\n",
    "from keras.models import Sequential\n",
    "from keras.layers import LSTM, Dense\n",
    "\n",
    "from sklearn.preprocessing import MinMaxScaler\n",
    "import numpy as np\n",
    "import datetime\n",
    "from tensorflow.keras.utils import to_categorical\n",
    "\n",
    "# Initialize a SparkSession\n",
    "spark = SparkSession.builder.appName(\"PredictiveMaintenance\").getOrCreate()\n",
    "\n",
    "# Load your dataset into a PySpark DataFrame\n",
    "df = spark.read.csv('/Users/mac/Downloads/predictive2.csv', header=True, inferSchema=True)\n",
    "df.count()\n",
    "df = df.limit(100000)\n",
    "df.count()\n",
    "# Assuming 'date_insertion' is the correct timestamp column based on your dataset schema\n",
    "# Adjust the following transformations accordingly:\n",
    "\n",
    "# Extract JSON fields function\n",
    "def extract_from_json(column, key):\n",
    "    try:\n",
    "        json_data = json.loads(column.replace(\"'\", \"\\\"\"))\n",
    "        return json_data.get(key, None)\n",
    "    except:\n",
    "        return None\n",
    "\n",
    "# Registering the UDF\n",
    "extract_from_json_udf = udf(extract_from_json)\n",
    "\n",
    "# Step 1: Extracting 'oil_value' and 'fuel_liters'\n",
    "df = df.withColumn(\"oil_value\", extract_from_json_udf(col(\"details\"), lit(\"oil_value\")))\n",
    "df = df.withColumn(\"fuel_liters\", extract_from_json_udf(col(\"details\"), lit(\"fuel_liters\")))\n",
    "\n",
    "# Step 2: Creating time-based features\n",
    "df = df.withColumn(\"date_insertion\", to_date(col(\"date_insertion\")))\n",
    "df = df.withColumn(\"day_of_week\", dayofweek(col(\"date_insertion\")))\n",
    "df = df.withColumn(\"hour_of_day\", hour(col(\"date_insertion\")))\n",
    "\n",
    "\n",
    "\n",
    "# Step 4: Aggregate readings on a daily basis\n",
    "daily_avg_df = df.groupBy(\"thing_id\", \"date_insertion\").agg(mean(\"power_supply_voltage\").alias(\"daily_avg_voltage\"))\n",
    "df = df.join(daily_avg_df, [\"thing_id\", \"date_insertion\"], \"left\")\n",
    "\n",
    "# Step 5: Create binary indicator for 'engine_status'\n",
    "df = df.withColumn(\"engine_alert\", when(col(\"engine_status\") == \"Abnormal\", 1).otherwise(0))\n",
    "\n",
    "# Define a UDF to generate random values within a range\n",
    "def random_value(min_value, max_value):\n",
    "    return (rand() * (max_value - min_value) + min_value).cast(FloatType())\n",
    "\n",
    "# random_value_udf = udf(random_value, FloatType())\n",
    "\n",
    "# Set min and max values for 'oil_value' and 'fuel_liters'\n",
    "oil_value_min, oil_value_max = 0, 4\n",
    "fuel_liters_min, fuel_liters_max = 0, 60\n",
    "\n",
    "fuel_liters_mi, fuel_liters_ma = 2, 6\n",
    "\n",
    "\n",
    "# Replace null values with random numbers\n",
    "# Replace null values with random numbers and round to 1 decimal place\n",
    "df = df.withColumn(\"oil_value\", when(df['oil_value'].isNull(), round((rand() * (oil_value_max - oil_value_min) + oil_value_min), 1)).otherwise(df['oil_value']))\n",
    "df = df.withColumn(\"fuel_liters\", when(df['fuel_liters'].isNull(), round((rand() * (fuel_liters_max - fuel_liters_min) + fuel_liters_min), 1)).otherwise(df['fuel_liters']))\n",
    "# df = df.withColumn(\"fuel_change\", when(df['fuel_liters'].isNull(), round((rand() * (fuel_liters_ma - fuel_liters_mi) + fuel_liters_mi), 1)).otherwise(df['fuel_liters']))\n",
    "\n",
    "\n",
    "\n",
    "\n",
    "\n",
    "\n",
    "\n",
    "\n",
    "# Step 6: Generate interaction features\n",
    "# df = df.withColumn(\"voltage_current_interaction\", col(\"power_supply_voltage\") * col(\"battery_current\"))\n",
    "\n",
    "# Step 3: Calculating rate of change for 'battery_current'\n",
    "windowSpec = Window.partitionBy(\"thing_id\").orderBy(\"date_insertion\")\n",
    "df = df.withColumn(\"battery_current_change\", col(\"power_supply_voltage\") - lag(\"power_supply_voltage\", 1).over(windowSpec))\n"
   ]
  },
  {
   "cell_type": "code",
   "execution_count": 2,
   "metadata": {},
   "outputs": [
    {
     "name": "stderr",
     "output_type": "stream",
     "text": [
      "                                                                                \r"
     ]
    },
    {
     "name": "stdout",
     "output_type": "stream",
     "text": [
      "+--------+--------------+-----+---------+-------------+--------------------+---------+-----------+----------------------+-----------------+-----------+\n",
      "|thing_id|date_insertion|speed| total_km|engine_status|power_supply_voltage|oil_value|fuel_liters|battery_current_change|daily_avg_voltage|fuel_change|\n",
      "+--------+--------------+-----+---------+-------------+--------------------+---------+-----------+----------------------+-----------------+-----------+\n",
      "|     802|    2024-02-28|    0|275680962|            0|               19.91|      1.5|       34.4|                  NULL|22.23008032128516|          2|\n",
      "|     802|    2024-02-28|    0|275680962|            0|                19.9|      2.1|       30.2|  -0.01000000000000...|22.23008032128516|          2|\n",
      "|     802|    2024-02-28|    0|275680962|            0|               19.88|      0.2|       33.7|  -0.01999999999999...|22.23008032128516|          5|\n",
      "|     802|    2024-02-28|    0|275680962|            0|               19.87|      2.7|       30.0|  -0.00999999999999801|22.23008032128516|          4|\n",
      "|     802|    2024-02-28|    0|275680962|            0|               19.87|      1.7|        6.5|                   0.0|22.23008032128516|          3|\n",
      "|     802|    2024-02-28|    0|275680962|            0|               19.86|      0.8|       45.5|  -0.01000000000000...|22.23008032128516|          3|\n",
      "|     802|    2024-02-28|    0|275680995|            1|                22.1|      1.2|       59.8|     2.240000000000002|22.23008032128516|          5|\n",
      "|     802|    2024-02-28|    0|275680995|            1|               22.22|      1.3|       33.9|   0.11999999999999744|22.23008032128516|          3|\n",
      "|     802|    2024-02-28|    0|275680995|            1|               22.22|      0.2|        4.3|                   0.0|22.23008032128516|          3|\n",
      "|     802|    2024-02-28|    0|275680995|            1|               22.11|      1.5|       17.5|  -0.10999999999999943|22.23008032128516|          2|\n",
      "|     802|    2024-02-28|    0|275680995|            1|               22.25|      0.1|        2.5|   0.14000000000000057|22.23008032128516|          3|\n",
      "|     802|    2024-02-28|    0|275680995|            1|               22.18|      3.0|       48.3|  -0.07000000000000028|22.23008032128516|          4|\n",
      "|     802|    2024-02-28|    0|275681003|            1|               22.22|      2.7|        2.2|   0.03999999999999915|22.23008032128516|          3|\n",
      "|     802|    2024-02-28|    0|275681004|            1|               22.21|      1.8|        3.4|  -0.00999999999999801|22.23008032128516|          5|\n",
      "|     802|    2024-02-28|   12|275681021|            1|                22.2|      1.8|       41.7|  -0.01000000000000...|22.23008032128516|          4|\n",
      "|     802|    2024-02-28|    0|275681048|            1|               22.33|      2.9|       15.9|     0.129999999999999|22.23008032128516|          2|\n",
      "|     802|    2024-02-28|    0|275681049|            1|               22.31|      2.1|       57.1|  -0.01999999999999...|22.23008032128516|          3|\n",
      "|     802|    2024-02-28|    0|275681049|            1|               22.35|      1.2|        7.3|    0.0400000000000027|22.23008032128516|          4|\n",
      "|     802|    2024-02-28|    0|275681049|            1|               22.32|      3.5|       48.2|  -0.03000000000000...|22.23008032128516|          2|\n",
      "|     802|    2024-02-28|    0|275681049|            1|               22.36|      3.4|       56.1|   0.03999999999999915|22.23008032128516|          3|\n",
      "+--------+--------------+-----+---------+-------------+--------------------+---------+-----------+----------------------+-----------------+-----------+\n",
      "only showing top 20 rows\n",
      "\n"
     ]
    }
   ],
   "source": [
    "df = df.select(\"thing_id\", \"date_insertion\", \"speed\", \"total_km\", \"engine_status\", \"power_supply_voltage\" ,\"oil_value\", \"fuel_liters\",  \"battery_current_change\", \"daily_avg_voltage\")\n",
    "\n",
    "\n",
    "from pyspark.sql import Window\n",
    "from pyspark.sql.functions import lag, avg, stddev\n",
    "\n",
    "# Define a window\n",
    "window = Window.orderBy('date_insertion').rowsBetween(-9, 0)  # assuming 'date_insertion' is your time column\n",
    "\n",
    "# Calculate rolling averages and standard deviations\n",
    "# df = df.withColumn('speed_avg', avg(df['speed']).over(window))\n",
    "# df = df.withColumn('oil_value_std', stddev(df['oil_value']).over(window))\n",
    "\n",
    "# Calculate changes between consecutive readings\n",
    "# df = df.withColumn('speed_change', df['speed'] - lag(df['speed']).over(Window.orderBy('date_insertion')))\n",
    "# df = df.withColumn('fuel_change', df['fuel_liters'] - lag(df['fuel_liters']).over(Window.orderBy('date_insertion')))\n",
    "df = df.withColumn('fuel_change', (rand() * 4 + 2).cast(\"int\"))#replace all fuel_chnages values with random values between 2 and 6\n",
    "\n",
    "\n",
    "\n",
    "# Step 7: Calculate rolling average\n",
    "\n",
    "\n",
    "# Define a Window specification\n",
    "# windowSpec = Window.orderBy('date_insertion').rowsBetween(-4, 0)  # 5 rows including current row\n",
    "\n",
    "# Calculate rolling average\n",
    "# df = df.withColumn('oil_quality_rolling_avg', avg(df['oil_value']).over(windowSpec))\n",
    "\n",
    "# Show the first 5 rows of the DataFrame\n",
    "df.show()\n"
   ]
  },
  {
   "cell_type": "code",
   "execution_count": 3,
   "metadata": {},
   "outputs": [
    {
     "name": "stdout",
     "output_type": "stream",
     "text": [
      "+--------+--------------+-----+---------+-------------+--------------------+---------+-----------+----------------------+-----------------+-----------+-------+---------------+-------------+\n",
      "|thing_id|date_insertion|speed| total_km|engine_status|power_supply_voltage|oil_value|fuel_liters|battery_current_change|daily_avg_voltage|fuel_change|car_age|last_oil_change|       status|\n",
      "+--------+--------------+-----+---------+-------------+--------------------+---------+-----------+----------------------+-----------------+-----------+-------+---------------+-------------+\n",
      "|     802|    2024-02-28|    0|275680962|            0|               19.91|      1.5|       34.4|                  NULL|22.23008032128516|          2|    old|            old|         fail|\n",
      "|     802|    2024-02-28|    0|275680962|            0|                19.9|      2.1|       30.2|  -0.01000000000000...|22.23008032128516|          2|    old|            old|         fail|\n",
      "|     802|    2024-02-28|    0|275680962|            0|               19.88|      0.2|       33.7|  -0.01999999999999...|22.23008032128516|          5|    old|            old|   about fail|\n",
      "|     802|    2024-02-28|    0|275680962|            0|               19.87|      2.7|       30.0|  -0.00999999999999801|22.23008032128516|          4|    old|           80km|about to fail|\n",
      "|     802|    2024-02-28|    0|275680962|            0|               19.87|      1.7|        6.5|                   0.0|22.23008032128516|          3|    old|            new|       normal|\n",
      "|     802|    2024-02-28|    0|275680962|            0|               19.86|      0.8|       45.5|  -0.01000000000000...|22.23008032128516|          3|    old|            new|       normal|\n",
      "|     802|    2024-02-28|    0|275680995|            1|                22.1|      1.2|       59.8|     2.240000000000002|22.23008032128516|          5|    old|           50km|   about fail|\n",
      "|     802|    2024-02-28|    0|275680995|            1|               22.22|      1.3|       33.9|   0.11999999999999744|22.23008032128516|          3|    old|           50km|       normal|\n",
      "|     802|    2024-02-28|    0|275680995|            1|               22.22|      0.2|        4.3|                   0.0|22.23008032128516|          3|    new|           50km|       normal|\n",
      "|     802|    2024-02-28|    0|275680995|            1|               22.11|      1.5|       17.5|  -0.10999999999999943|22.23008032128516|          2|    old|           50km|       normal|\n",
      "|     802|    2024-02-28|    0|275680995|            1|               22.25|      0.1|        2.5|   0.14000000000000057|22.23008032128516|          3|    old|            new|       normal|\n",
      "|     802|    2024-02-28|    0|275680995|            1|               22.18|      3.0|       48.3|  -0.07000000000000028|22.23008032128516|          4|    old|            old|         fail|\n",
      "|     802|    2024-02-28|    0|275681003|            1|               22.22|      2.7|        2.2|   0.03999999999999915|22.23008032128516|          3|    old|           50km|       normal|\n",
      "|     802|    2024-02-28|    0|275681004|            1|               22.21|      1.8|        3.4|  -0.00999999999999801|22.23008032128516|          5|    old|           80km|   about fail|\n",
      "|     802|    2024-02-28|   12|275681021|            1|                22.2|      1.8|       41.7|  -0.01000000000000...|22.23008032128516|          4|    new|           50km|       normal|\n",
      "|     802|    2024-02-28|    0|275681048|            1|               22.33|      2.9|       15.9|     0.129999999999999|22.23008032128516|          2|    new|           80km|       normal|\n",
      "|     802|    2024-02-28|    0|275681049|            1|               22.31|      2.1|       57.1|  -0.01999999999999...|22.23008032128516|          3|    new|            old|about to fail|\n",
      "|     802|    2024-02-28|    0|275681049|            1|               22.35|      1.2|        7.3|    0.0400000000000027|22.23008032128516|          4|    old|           80km|about to fail|\n",
      "|     802|    2024-02-28|    0|275681049|            1|               22.32|      3.5|       48.2|  -0.03000000000000...|22.23008032128516|          2|    old|            new|       normal|\n",
      "|     802|    2024-02-28|    0|275681049|            1|               22.36|      3.4|       56.1|   0.03999999999999915|22.23008032128516|          3|    old|            new|       normal|\n",
      "+--------+--------------+-----+---------+-------------+--------------------+---------+-----------+----------------------+-----------------+-----------+-------+---------------+-------------+\n",
      "only showing top 20 rows\n",
      "\n"
     ]
    }
   ],
   "source": [
    "# Define thresholds\n",
    "oil_value_fail_threshold = 1\n",
    "oil_value_about_to_fail_threshold = 2\n",
    "\n",
    "df = df.withColumn(\"car_age\", when(rand() < 0.7, \"old\").otherwise(\"new\"))\n",
    "\n",
    "df = df.withColumn(\"last_oil_change\", \n",
    "                   when(rand() < 0.25, \"new\")\n",
    "                   .when((rand() >= 0.25) & (rand() < 0.5), \"50km\")\n",
    "                   .when((rand() >= 0.5) & (rand() < 0.75), \"80km\")\n",
    "                   .otherwise(\"old\"))\n",
    "\n",
    "                #    when((col(\"fuel_change\") > 30) , \"fail\")\n",
    "\n",
    "\n",
    "                #     when((col(\"fuel_change\") > 5)  & (col(\"car_age\") == \"new\"), \"about fail\")\n",
    "                #    .when((col(\"fuel_change\") > 4)& (col(\"car_age\") == \"old\"), \"about fail\")\n",
    "                #    .when((col(\"car_age\") == \"old\") & (col(\"last_oil_change\") == \"80km\"), \"about to fail\")\n",
    "                #    .when((col(\"car_age\") == \"new\") & ((col(\"last_oil_change\") == \"new\") | (col(\"last_oil_change\") == \"50km\") | (col(\"last_oil_change\") == \"80km\")), \"normal\")\n",
    "\n",
    "df = df.withColumn(\"status\", \n",
    "                    when((col(\"fuel_change\") > 30) , \"fail\")\n",
    "                    .when((col(\"fuel_change\") > 5)  & (col(\"car_age\") == \"new\"), \"about fail\")\n",
    "                   .when((col(\"fuel_change\") > 4)& (col(\"car_age\") == \"old\"), \"about fail\")\n",
    "                   .when((col(\"car_age\") == \"old\") & (col(\"last_oil_change\") == \"80km\"), \"about to fail\")\n",
    "                   .when((col(\"car_age\") == \"new\") & ((col(\"last_oil_change\") == \"new\") | (col(\"last_oil_change\") == \"50km\") | (col(\"last_oil_change\") == \"80km\")), \"normal\")\n",
    "                   .when((col(\"car_age\") == \"old\") & (col(\"last_oil_change\") == \"old\"), \"fail\")\n",
    "                   .when((col(\"car_age\") == \"old\") & ((col(\"last_oil_change\") == \"new\") | (col(\"last_oil_change\") == \"50km\")), \"normal\")\n",
    "                   .otherwise(\"about to fail\"))\n",
    "\n",
    "# df = df.drop(\"date_insertion\", \"speed\",)\n",
    "\n",
    "\n",
    "\n",
    "from pyspark.sql.functions import udf\n",
    "from pyspark.sql.types import StringType\n",
    "import random\n",
    "\n",
    "# Define a UDF that changes \"about to fail\" to \"fail\" with a 5% probability\n",
    "def change_status(status):\n",
    "    if status == \"fail\" and random.random() < 0.2:\n",
    "        return \"Noraml\"\n",
    "    \n",
    "    # if status == \"normal\" and random.random() < 0.06:\n",
    "    #     return \"fail\"\n",
    "    else:\n",
    "        return status\n",
    "\n",
    "change_status_udf = udf(change_status, StringType())\n",
    "\n",
    "# Apply the UDF to the \"status\" column\n",
    "df = df.withColumn(\"status\", change_status_udf(df[\"status\"]))\n",
    "\n",
    "\n",
    "df.show()\n"
   ]
  },
  {
   "cell_type": "code",
   "execution_count": 4,
   "metadata": {},
   "outputs": [
    {
     "name": "stdout",
     "output_type": "stream",
     "text": [
      "+--------+--------------+-----+---------+-------------+--------------------+---------+-----------+----------------------+-----------------+-----------+-------+---------------+------+\n",
      "|thing_id|date_insertion|speed| total_km|engine_status|power_supply_voltage|oil_value|fuel_liters|battery_current_change|daily_avg_voltage|fuel_change|car_age|last_oil_change|status|\n",
      "+--------+--------------+-----+---------+-------------+--------------------+---------+-----------+----------------------+-----------------+-----------+-------+---------------+------+\n",
      "|     802|    2024-02-28|    0|275680962|            0|               19.91|      1.5|       34.4|                  NULL|22.23008032128516|          2|      0|              3|     2|\n",
      "|     802|    2024-02-28|    0|275680962|            0|                19.9|      2.1|       30.2|  -0.01000000000000...|22.23008032128516|          2|      0|              3|     2|\n",
      "|     802|    2024-02-28|    0|275680962|            0|               19.88|      0.2|       33.7|  -0.01999999999999...|22.23008032128516|          5|      0|              3|     2|\n",
      "+--------+--------------+-----+---------+-------------+--------------------+---------+-----------+----------------------+-----------------+-----------+-------+---------------+------+\n",
      "only showing top 3 rows\n",
      "\n"
     ]
    }
   ],
   "source": [
    "from pyspark.ml.feature import StringIndexer\n",
    "from keras.utils import to_categorical\n",
    "from sklearn.preprocessing import MinMaxScaler\n",
    "import numpy as np\n",
    "from pyspark.ml.feature import OneHotEncoder\n",
    "\n",
    "\n",
    "\n",
    "df = df.withColumn(\"status\", \n",
    "                   when(col(\"status\") == \"normal\", 0)\n",
    "                   .when(col(\"status\") == \"about to fail\", 1)\n",
    "                   .otherwise(2))\n",
    "\n",
    "df = df.withColumn(\"car_age\", \n",
    "                   when(col(\"car_age\") == \"old\", 0)\n",
    "                   .when(col(\"car_age\") == \"new\", 1)\n",
    "\n",
    "\n",
    "\n",
    ")\n",
    "\n",
    "\n",
    "df = df.withColumn(\"last_oil_change\", \n",
    "                   when(col(\"last_oil_change\") == \"new\", 0)\n",
    "                   .when(col(\"last_oil_change\") == \"50km\", 1)\n",
    "                   .when(col(\"last_oil_change\") == \"80km\", 2)\n",
    "                   .otherwise(3))\n",
    "\n",
    "df.show(3)\n",
    "\n",
    "# Cast 'statusIndex' to integer\n",
    "\n",
    "# Select features and label\n",
    "features = df.drop('status')\n",
    "label = df.select('status')\n",
    "\n",
    "# Convert Spark DataFrame to pandas DataFrame\n",
    "features_pd = features.toPandas()\n",
    "label_pd = label.toPandas()\n",
    "\n",
    "\n",
    "# Remove rows with any null value\n",
    "features_pd = features_pd.dropna()\n",
    "label_pd = label_pd.loc[features_pd.index] \n",
    "\n",
    "# Remove 'thing_id' and 'date' from features\n",
    "features_pd = features_pd.drop(['thing_id', 'date_insertion','speed','total_km','battery_current_change','daily_avg_voltage'], axis=1)\n",
    "\n",
    "features_pd.head()\n",
    "\n",
    "\n",
    "# Convert pandas DataFrame to NumPy array\n",
    "features_array = features_pd.values\n",
    "label_array = label_pd.values\n",
    "\n",
    "# Convert labels to one-hot encoded format\n",
    "label_array = to_categorical(label_array, num_classes=3)\n",
    "\n",
    "# Scale features to range [0, 1]\n",
    "scaler = MinMaxScaler(feature_range=(0, 1))\n",
    "scaled_features = scaler.fit_transform(features_array)\n",
    "\n",
    "\n",
    "\n",
    "# Reshape to 3D array (batch_size, timesteps, input_dim)\n",
    "scaled_features = np.reshape(scaled_features, (scaled_features.shape[0], 1, scaled_features.shape[1]))"
   ]
  },
  {
   "cell_type": "code",
   "execution_count": 8,
   "metadata": {},
   "outputs": [
    {
     "data": {
      "text/plain": [
       "Row(thing_id=802, date_insertion=datetime.date(2024, 2, 28), speed=0, total_km=275680962, engine_status=0, power_supply_voltage=19.91, oil_value='1.5', fuel_liters='34.4', battery_current_change=None, daily_avg_voltage=22.23008032128516, fuel_change=2, car_age=0, last_oil_change=3, status=2)"
      ]
     },
     "execution_count": 8,
     "metadata": {},
     "output_type": "execute_result"
    }
   ],
   "source": [
    "df.head()"
   ]
  },
  {
   "cell_type": "code",
   "execution_count": 9,
   "metadata": {},
   "outputs": [],
   "source": [
    "from pyspark.ml.feature import VectorAssembler\n",
    "from pyspark.ml.classification import RandomForestClassifier\n",
    "from pyspark.ml.evaluation import MulticlassClassificationEvaluator\n",
    "\n",
    "# # Assemble your features\n",
    "# assembler = VectorAssembler(\n",
    "#     inputCols=[\"engine_status\", \"power_supply_voltage\", \"oil_value\",\"fuel_liters\",\"fuel_change\",\"car_age\",\"last_oil_change\"],\n",
    "#     outputCol=\"status\"\n",
    "# )\n",
    "# df = assembler.transform(df)\n",
    "\n",
    "# Convert labels DataFrame to a series\n",
    "labels = label_pd.iloc[:, 0]"
   ]
  },
  {
   "cell_type": "code",
   "execution_count": 12,
   "metadata": {},
   "outputs": [
    {
     "name": "stdout",
     "output_type": "stream",
     "text": [
      "Model accuracy: 1.0\n"
     ]
    }
   ],
   "source": [
    "from sklearn.ensemble import RandomForestClassifier\n",
    "from sklearn.model_selection import train_test_split\n",
    "from sklearn.metrics import accuracy_score\n",
    "# Split the data into training and test sets\n",
    "X_train, X_test, y_train, y_test = train_test_split(features_pd, labels, test_size=0.2, random_state=42)\n",
    "\n",
    "# Create a random forest classifier\n",
    "clf = RandomForestClassifier(n_estimators=100, random_state=42)\n",
    "\n",
    "# Train the classifier\n",
    "clf.fit(X_train, y_train)\n",
    "\n",
    "# Make predictions on the test set\n",
    "y_pred = clf.predict(X_test)\n",
    "\n",
    "# Calculate the accuracy of the model\n",
    "accuracy = accuracy_score(y_test, y_pred)\n",
    "\n",
    "print(f\"Model accuracy: {accuracy}\")"
   ]
  },
  {
   "cell_type": "code",
   "execution_count": 13,
   "metadata": {},
   "outputs": [
    {
     "data": {
      "image/png": "[encoded data removed]",
      "text/plain": [
       "<Figure size 640x480 with 2 Axes>"
      ]
     },
     "metadata": {},
     "output_type": "display_data"
    }
   ],
   "source": [
    "from sklearn.metrics import confusion_matrix\n",
    "import seaborn as sns\n",
    "import matplotlib.pyplot as plt\n",
    "\n",
    "cm = confusion_matrix(y_test, y_pred)\n",
    "sns.heatmap(cm, annot=True, fmt='d')\n",
    "plt.ylabel('Actual')\n",
    "plt.xlabel('Predicted')\n",
    "plt.show()"
   ]
  },
  {
   "cell_type": "code",
   "execution_count": 15,
   "metadata": {},
   "outputs": [
    {
     "data": {
      "image/png": "[encoded data removed]",
      "text/plain": [
       "<Figure size 640x480 with 1 Axes>"
      ]
     },
     "metadata": {},
     "output_type": "display_data"
    }
   ],
   "source": [
    "import pandas as pd\n",
    "\n",
    "feature_imp = pd.Series(clf.feature_importances_,index=features_pd.columns).sort_values(ascending=False)\n",
    "\n",
    "sns.barplot(x=feature_imp, y=feature_imp.index)\n",
    "plt.xlabel('Feature Importance Score')\n",
    "plt.ylabel('Features')\n",
    "plt.title(\"Visualizing Important Features\")\n",
    "plt.show()"
   ]
  },
  {
   "cell_type": "code",
   "execution_count": 16,
   "metadata": {},
   "outputs": [
    {
     "ename": "ValueError",
     "evalue": "multiclass format is not supported",
     "output_type": "error",
     "traceback": [
      "\u001b[0;31m---------------------------------------------------------------------------\u001b[0m",
      "\u001b[0;31mValueError\u001b[0m                                Traceback (most recent call last)",
      "Cell \u001b[0;32mIn[16], line 3\u001b[0m\n\u001b[1;32m      1\u001b[0m \u001b[38;5;28;01mfrom\u001b[39;00m \u001b[38;5;21;01msklearn\u001b[39;00m\u001b[38;5;21;01m.\u001b[39;00m\u001b[38;5;21;01mmetrics\u001b[39;00m \u001b[38;5;28;01mimport\u001b[39;00m roc_curve, auc\n\u001b[0;32m----> 3\u001b[0m fpr, tpr, thresholds \u001b[38;5;241m=\u001b[39m \u001b[43mroc_curve\u001b[49m\u001b[43m(\u001b[49m\u001b[43my_test\u001b[49m\u001b[43m,\u001b[49m\u001b[43m \u001b[49m\u001b[43my_pred\u001b[49m\u001b[43m)\u001b[49m\n\u001b[1;32m      4\u001b[0m roc_auc \u001b[38;5;241m=\u001b[39m auc(fpr, tpr)\n\u001b[1;32m      6\u001b[0m plt\u001b[38;5;241m.\u001b[39mfigure()\n",
      "File \u001b[0;32m~/Library/Python/3.9/lib/python/site-packages/sklearn/utils/_param_validation.py:213\u001b[0m, in \u001b[0;36mvalidate_params.<locals>.decorator.<locals>.wrapper\u001b[0;34m(*args, **kwargs)\u001b[0m\n\u001b[1;32m    207\u001b[0m \u001b[38;5;28;01mtry\u001b[39;00m:\n\u001b[1;32m    208\u001b[0m     \u001b[38;5;28;01mwith\u001b[39;00m config_context(\n\u001b[1;32m    209\u001b[0m         skip_parameter_validation\u001b[38;5;241m=\u001b[39m(\n\u001b[1;32m    210\u001b[0m             prefer_skip_nested_validation \u001b[38;5;129;01mor\u001b[39;00m global_skip_validation\n\u001b[1;32m    211\u001b[0m         )\n\u001b[1;32m    212\u001b[0m     ):\n\u001b[0;32m--> 213\u001b[0m         \u001b[38;5;28;01mreturn\u001b[39;00m \u001b[43mfunc\u001b[49m\u001b[43m(\u001b[49m\u001b[38;5;241;43m*\u001b[39;49m\u001b[43margs\u001b[49m\u001b[43m,\u001b[49m\u001b[43m \u001b[49m\u001b[38;5;241;43m*\u001b[39;49m\u001b[38;5;241;43m*\u001b[39;49m\u001b[43mkwargs\u001b[49m\u001b[43m)\u001b[49m\n\u001b[1;32m    214\u001b[0m \u001b[38;5;28;01mexcept\u001b[39;00m InvalidParameterError \u001b[38;5;28;01mas\u001b[39;00m e:\n\u001b[1;32m    215\u001b[0m     \u001b[38;5;66;03m# When the function is just a wrapper around an estimator, we allow\u001b[39;00m\n\u001b[1;32m    216\u001b[0m     \u001b[38;5;66;03m# the function to delegate validation to the estimator, but we replace\u001b[39;00m\n\u001b[1;32m    217\u001b[0m     \u001b[38;5;66;03m# the name of the estimator by the name of the function in the error\u001b[39;00m\n\u001b[1;32m    218\u001b[0m     \u001b[38;5;66;03m# message to avoid confusion.\u001b[39;00m\n\u001b[1;32m    219\u001b[0m     msg \u001b[38;5;241m=\u001b[39m re\u001b[38;5;241m.\u001b[39msub(\n\u001b[1;32m    220\u001b[0m         \u001b[38;5;124mr\u001b[39m\u001b[38;5;124m\"\u001b[39m\u001b[38;5;124mparameter of \u001b[39m\u001b[38;5;124m\\\u001b[39m\u001b[38;5;124mw+ must be\u001b[39m\u001b[38;5;124m\"\u001b[39m,\n\u001b[1;32m    221\u001b[0m         \u001b[38;5;124mf\u001b[39m\u001b[38;5;124m\"\u001b[39m\u001b[38;5;124mparameter of \u001b[39m\u001b[38;5;132;01m{\u001b[39;00mfunc\u001b[38;5;241m.\u001b[39m\u001b[38;5;18m__qualname__\u001b[39m\u001b[38;5;132;01m}\u001b[39;00m\u001b[38;5;124m must be\u001b[39m\u001b[38;5;124m\"\u001b[39m,\n\u001b[1;32m    222\u001b[0m         \u001b[38;5;28mstr\u001b[39m(e),\n\u001b[1;32m    223\u001b[0m     )\n",
      "File \u001b[0;32m~/Library/Python/3.9/lib/python/site-packages/sklearn/metrics/_ranking.py:1108\u001b[0m, in \u001b[0;36mroc_curve\u001b[0;34m(y_true, y_score, pos_label, sample_weight, drop_intermediate)\u001b[0m\n\u001b[1;32m   1006\u001b[0m \u001b[38;5;129m@validate_params\u001b[39m(\n\u001b[1;32m   1007\u001b[0m     {\n\u001b[1;32m   1008\u001b[0m         \u001b[38;5;124m\"\u001b[39m\u001b[38;5;124my_true\u001b[39m\u001b[38;5;124m\"\u001b[39m: [\u001b[38;5;124m\"\u001b[39m\u001b[38;5;124marray-like\u001b[39m\u001b[38;5;124m\"\u001b[39m],\n\u001b[0;32m   (...)\u001b[0m\n\u001b[1;32m   1017\u001b[0m     y_true, y_score, \u001b[38;5;241m*\u001b[39m, pos_label\u001b[38;5;241m=\u001b[39m\u001b[38;5;28;01mNone\u001b[39;00m, sample_weight\u001b[38;5;241m=\u001b[39m\u001b[38;5;28;01mNone\u001b[39;00m, drop_intermediate\u001b[38;5;241m=\u001b[39m\u001b[38;5;28;01mTrue\u001b[39;00m\n\u001b[1;32m   1018\u001b[0m ):\n\u001b[1;32m   1019\u001b[0m \u001b[38;5;250m    \u001b[39m\u001b[38;5;124;03m\"\"\"Compute Receiver operating characteristic (ROC).\u001b[39;00m\n\u001b[1;32m   1020\u001b[0m \n\u001b[1;32m   1021\u001b[0m \u001b[38;5;124;03m    Note: this implementation is restricted to the binary classification task.\u001b[39;00m\n\u001b[0;32m   (...)\u001b[0m\n\u001b[1;32m   1106\u001b[0m \u001b[38;5;124;03m    array([ inf, 0.8 , 0.4 , 0.35, 0.1 ])\u001b[39;00m\n\u001b[1;32m   1107\u001b[0m \u001b[38;5;124;03m    \"\"\"\u001b[39;00m\n\u001b[0;32m-> 1108\u001b[0m     fps, tps, thresholds \u001b[38;5;241m=\u001b[39m \u001b[43m_binary_clf_curve\u001b[49m\u001b[43m(\u001b[49m\n\u001b[1;32m   1109\u001b[0m \u001b[43m        \u001b[49m\u001b[43my_true\u001b[49m\u001b[43m,\u001b[49m\u001b[43m \u001b[49m\u001b[43my_score\u001b[49m\u001b[43m,\u001b[49m\u001b[43m \u001b[49m\u001b[43mpos_label\u001b[49m\u001b[38;5;241;43m=\u001b[39;49m\u001b[43mpos_label\u001b[49m\u001b[43m,\u001b[49m\u001b[43m \u001b[49m\u001b[43msample_weight\u001b[49m\u001b[38;5;241;43m=\u001b[39;49m\u001b[43msample_weight\u001b[49m\n\u001b[1;32m   1110\u001b[0m \u001b[43m    \u001b[49m\u001b[43m)\u001b[49m\n\u001b[1;32m   1112\u001b[0m     \u001b[38;5;66;03m# Attempt to drop thresholds corresponding to points in between and\u001b[39;00m\n\u001b[1;32m   1113\u001b[0m     \u001b[38;5;66;03m# collinear with other points. These are always suboptimal and do not\u001b[39;00m\n\u001b[1;32m   1114\u001b[0m     \u001b[38;5;66;03m# appear on a plotted ROC curve (and thus do not affect the AUC).\u001b[39;00m\n\u001b[0;32m   (...)\u001b[0m\n\u001b[1;32m   1119\u001b[0m     \u001b[38;5;66;03m# but does not drop more complicated cases like fps = [1, 3, 7],\u001b[39;00m\n\u001b[1;32m   1120\u001b[0m     \u001b[38;5;66;03m# tps = [1, 2, 4]; there is no harm in keeping too many thresholds.\u001b[39;00m\n\u001b[1;32m   1121\u001b[0m     \u001b[38;5;28;01mif\u001b[39;00m drop_intermediate \u001b[38;5;129;01mand\u001b[39;00m \u001b[38;5;28mlen\u001b[39m(fps) \u001b[38;5;241m>\u001b[39m \u001b[38;5;241m2\u001b[39m:\n",
      "File \u001b[0;32m~/Library/Python/3.9/lib/python/site-packages/sklearn/metrics/_ranking.py:817\u001b[0m, in \u001b[0;36m_binary_clf_curve\u001b[0;34m(y_true, y_score, pos_label, sample_weight)\u001b[0m\n\u001b[1;32m    815\u001b[0m y_type \u001b[38;5;241m=\u001b[39m type_of_target(y_true, input_name\u001b[38;5;241m=\u001b[39m\u001b[38;5;124m\"\u001b[39m\u001b[38;5;124my_true\u001b[39m\u001b[38;5;124m\"\u001b[39m)\n\u001b[1;32m    816\u001b[0m \u001b[38;5;28;01mif\u001b[39;00m \u001b[38;5;129;01mnot\u001b[39;00m (y_type \u001b[38;5;241m==\u001b[39m \u001b[38;5;124m\"\u001b[39m\u001b[38;5;124mbinary\u001b[39m\u001b[38;5;124m\"\u001b[39m \u001b[38;5;129;01mor\u001b[39;00m (y_type \u001b[38;5;241m==\u001b[39m \u001b[38;5;124m\"\u001b[39m\u001b[38;5;124mmulticlass\u001b[39m\u001b[38;5;124m\"\u001b[39m \u001b[38;5;129;01mand\u001b[39;00m pos_label \u001b[38;5;129;01mis\u001b[39;00m \u001b[38;5;129;01mnot\u001b[39;00m \u001b[38;5;28;01mNone\u001b[39;00m)):\n\u001b[0;32m--> 817\u001b[0m     \u001b[38;5;28;01mraise\u001b[39;00m \u001b[38;5;167;01mValueError\u001b[39;00m(\u001b[38;5;124m\"\u001b[39m\u001b[38;5;132;01m{0}\u001b[39;00m\u001b[38;5;124m format is not supported\u001b[39m\u001b[38;5;124m\"\u001b[39m\u001b[38;5;241m.\u001b[39mformat(y_type))\n\u001b[1;32m    819\u001b[0m check_consistent_length(y_true, y_score, sample_weight)\n\u001b[1;32m    820\u001b[0m y_true \u001b[38;5;241m=\u001b[39m column_or_1d(y_true)\n",
      "\u001b[0;31mValueError\u001b[0m: multiclass format is not supported"
     ]
    }
   ],
   "source": [
    "from sklearn.metrics import roc_curve, auc\n",
    "\n",
    "fpr, tpr, thresholds = roc_curve(y_test, y_pred)\n",
    "roc_auc = auc(fpr, tpr)\n",
    "\n",
    "plt.figure()\n",
    "plt.plot(fpr, tpr, color='darkorange', lw=1, label='ROC curve (area = %0.2f)' % roc_auc)\n",
    "plt.plot([0, 1], [0, 1], color='navy', lw=1, linestyle='--')\n",
    "plt.xlim([0.0, 1.0])\n",
    "plt.ylim([0.0, 1.05])\n",
    "plt.xlabel('False Positive Rate')\n",
    "plt.ylabel('True Positive Rate')\n",
    "plt.title('Receiver Operating Characteristic')\n",
    "plt.legend(loc=\"lower right\")\n",
    "plt.show()"
   ]
  }
 ],
 "metadata": {
  "kernelspec": {
   "display_name": "Python 3",
   "language": "python",
   "name": "python3"
  },
  "language_info": {
   "codemirror_mode": {
    "name": "ipython",
    "version": 3
   },
   "file_extension": ".py",
   "mimetype": "text/x-python",
   "name": "python",
   "nbconvert_exporter": "python",
   "pygments_lexer": "ipython3",
   "version": "3.9.18"
  }
 },
 "nbformat": 4,
 "nbformat_minor": 2
}

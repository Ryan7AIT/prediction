{
 "cells": [
  {
   "cell_type": "code",
   "execution_count": 71,
   "metadata": {},
   "outputs": [
    {
     "name": "stderr",
     "output_type": "stream",
     "text": [
      "                                                                                \r"
     ]
    }
   ],
   "source": [
    "from pyspark.sql import SparkSession\n",
    "from pyspark.sql.functions import col, udf, to_date, dayofweek, hour, lag, mean, lit, when,avg\n",
    "from pyspark.sql.window import Window\n",
    "import json\n",
    "from pyspark.sql.functions import rand, isnan, when\n",
    "from pyspark.sql.types import FloatType\n",
    "from pyspark.sql.functions import rand, round\n",
    "from keras.callbacks import TensorBoard\n",
    "from sklearn.preprocessing import MinMaxScaler\n",
    "from keras.models import Sequential\n",
    "from keras.layers import LSTM, Dense\n",
    "\n",
    "from sklearn.preprocessing import MinMaxScaler\n",
    "import numpy as np\n",
    "import datetime\n",
    "from tensorflow.keras.utils import to_categorical\n",
    "\n",
    "# Initialize a SparkSession\n",
    "spark = SparkSession.builder.appName(\"PredictiveMaintenance\").getOrCreate()\n",
    "\n",
    "# Load your dataset into a PySpark DataFrame\n",
    "df = spark.read.csv('/Users/mac/Downloads/predictive2.csv', header=True, inferSchema=True)\n",
    "df.count()\n",
    "df = df.limit(100000)\n",
    "df.count()\n",
    "# Assuming 'date_insertion' is the correct timestamp column based on your dataset schema\n",
    "# Adjust the following transformations accordingly:\n",
    "\n",
    "# Extract JSON fields function\n",
    "def extract_from_json(column, key):\n",
    "    try:\n",
    "        json_data = json.loads(column.replace(\"'\", \"\\\"\"))\n",
    "        return json_data.get(key, None)\n",
    "    except:\n",
    "        return None\n",
    "\n",
    "# Registering the UDF\n",
    "extract_from_json_udf = udf(extract_from_json)\n",
    "\n",
    "# Step 1: Extracting 'oil_value' and 'fuel_liters'\n",
    "df = df.withColumn(\"oil_value\", extract_from_json_udf(col(\"details\"), lit(\"oil_value\")))\n",
    "df = df.withColumn(\"fuel_liters\", extract_from_json_udf(col(\"details\"), lit(\"fuel_liters\")))\n",
    "\n",
    "# Step 2: Creating time-based features\n",
    "df = df.withColumn(\"date_insertion\", to_date(col(\"date_insertion\")))\n",
    "df = df.withColumn(\"day_of_week\", dayofweek(col(\"date_insertion\")))\n",
    "df = df.withColumn(\"hour_of_day\", hour(col(\"date_insertion\")))\n",
    "\n",
    "\n",
    "\n",
    "# Step 4: Aggregate readings on a daily basis\n",
    "daily_avg_df = df.groupBy(\"thing_id\", \"date_insertion\").agg(mean(\"power_supply_voltage\").alias(\"daily_avg_voltage\"))\n",
    "df = df.join(daily_avg_df, [\"thing_id\", \"date_insertion\"], \"left\")\n",
    "\n",
    "# Step 5: Create binary indicator for 'engine_status'\n",
    "df = df.withColumn(\"engine_alert\", when(col(\"engine_status\") == \"Abnormal\", 1).otherwise(0))\n",
    "\n",
    "# Define a UDF to generate random values within a range\n",
    "def random_value(min_value, max_value):\n",
    "    return (rand() * (max_value - min_value) + min_value).cast(FloatType())\n",
    "\n",
    "# random_value_udf = udf(random_value, FloatType())\n",
    "\n",
    "# Set min and max values for 'oil_value' and 'fuel_liters'\n",
    "oil_value_min, oil_value_max = 0, 4\n",
    "fuel_liters_min, fuel_liters_max = 0, 60\n",
    "\n",
    "fuel_liters_mi, fuel_liters_ma = 2, 6\n",
    "\n",
    "\n",
    "# Replace null values with random numbers\n",
    "# Replace null values with random numbers and round to 1 decimal place\n",
    "df = df.withColumn(\"oil_value\", when(df['oil_value'].isNull(), round((rand() * (oil_value_max - oil_value_min) + oil_value_min), 1)).otherwise(df['oil_value']))\n",
    "df = df.withColumn(\"fuel_liters\", when(df['fuel_liters'].isNull(), round((rand() * (fuel_liters_max - fuel_liters_min) + fuel_liters_min), 1)).otherwise(df['fuel_liters']))\n",
    "# df = df.withColumn(\"fuel_change\", when(df['fuel_liters'].isNull(), round((rand() * (fuel_liters_ma - fuel_liters_mi) + fuel_liters_mi), 1)).otherwise(df['fuel_liters']))\n",
    "\n",
    "\n",
    "\n",
    "\n",
    "\n",
    "\n",
    "\n",
    "\n",
    "# Step 6: Generate interaction features\n",
    "# df = df.withColumn(\"voltage_current_interaction\", col(\"power_supply_voltage\") * col(\"battery_current\"))\n",
    "\n",
    "# Step 3: Calculating rate of change for 'battery_current'\n",
    "windowSpec = Window.partitionBy(\"thing_id\").orderBy(\"date_insertion\")\n",
    "df = df.withColumn(\"battery_current_change\", col(\"power_supply_voltage\") - lag(\"power_supply_voltage\", 1).over(windowSpec))\n"
   ]
  },
  {
   "cell_type": "code",
   "execution_count": 72,
   "metadata": {},
   "outputs": [
    {
     "data": {
      "text/plain": [
       "100000"
      ]
     },
     "execution_count": 72,
     "metadata": {},
     "output_type": "execute_result"
    }
   ],
   "source": [
    "df.count()\n"
   ]
  },
  {
   "cell_type": "code",
   "execution_count": 73,
   "metadata": {},
   "outputs": [
    {
     "name": "stderr",
     "output_type": "stream",
     "text": [
      "[Stage 227:>                                                        (0 + 8) / 8]\r"
     ]
    },
    {
     "name": "stdout",
     "output_type": "stream",
     "text": [
      "+--------+--------------+-----+---------+-------------+--------------------+---------+-----------+----------------------+-----------------+-----------+\n",
      "|thing_id|date_insertion|speed| total_km|engine_status|power_supply_voltage|oil_value|fuel_liters|battery_current_change|daily_avg_voltage|fuel_change|\n",
      "+--------+--------------+-----+---------+-------------+--------------------+---------+-----------+----------------------+-----------------+-----------+\n",
      "|     802|    2024-02-28|    0|275680962|            0|               19.91|      0.7|       47.6|                  NULL|22.23008032128516|          5|\n",
      "|     802|    2024-02-28|    0|275680962|            0|                19.9|      4.0|       23.3|  -0.01000000000000...|22.23008032128516|          3|\n",
      "|     802|    2024-02-28|    0|275680962|            0|               19.88|      2.2|       11.7|  -0.01999999999999...|22.23008032128516|          3|\n",
      "|     802|    2024-02-28|    0|275680962|            0|               19.87|      0.3|       19.2|  -0.00999999999999801|22.23008032128516|          4|\n",
      "|     802|    2024-02-28|    0|275680962|            0|               19.87|      0.7|       23.7|                   0.0|22.23008032128516|          5|\n",
      "|     802|    2024-02-28|    0|275680962|            0|               19.86|      3.6|        1.5|  -0.01000000000000...|22.23008032128516|          3|\n",
      "|     802|    2024-02-28|    0|275680995|            1|                22.1|      2.3|       10.8|     2.240000000000002|22.23008032128516|          3|\n",
      "|     802|    2024-02-28|    0|275680995|            1|               22.22|      0.0|        7.7|   0.11999999999999744|22.23008032128516|          2|\n",
      "|     802|    2024-02-28|    0|275680995|            1|               22.22|      0.0|        0.3|                   0.0|22.23008032128516|          2|\n",
      "|     802|    2024-02-28|    0|275680995|            1|               22.11|      2.9|       44.1|  -0.10999999999999943|22.23008032128516|          5|\n",
      "|     802|    2024-02-28|    0|275680995|            1|               22.25|      3.3|       38.3|   0.14000000000000057|22.23008032128516|          2|\n",
      "|     802|    2024-02-28|    0|275680995|            1|               22.18|      4.0|        3.3|  -0.07000000000000028|22.23008032128516|          5|\n",
      "|     802|    2024-02-28|    0|275681003|            1|               22.22|      0.8|       12.3|   0.03999999999999915|22.23008032128516|          2|\n",
      "|     802|    2024-02-28|    0|275681004|            1|               22.21|      1.2|       26.6|  -0.00999999999999801|22.23008032128516|          3|\n",
      "|     802|    2024-02-28|   12|275681021|            1|                22.2|      3.5|       40.2|  -0.01000000000000...|22.23008032128516|          2|\n",
      "|     802|    2024-02-28|    0|275681048|            1|               22.33|      2.4|       20.4|     0.129999999999999|22.23008032128516|          3|\n",
      "|     802|    2024-02-28|    0|275681049|            1|               22.31|      0.1|       47.1|  -0.01999999999999...|22.23008032128516|          3|\n",
      "|     802|    2024-02-28|    0|275681049|            1|               22.35|      3.1|        9.2|    0.0400000000000027|22.23008032128516|          2|\n",
      "|     802|    2024-02-28|    0|275681049|            1|               22.32|      3.0|       43.9|  -0.03000000000000...|22.23008032128516|          3|\n",
      "|     802|    2024-02-28|    0|275681049|            1|               22.36|      1.0|        8.8|   0.03999999999999915|22.23008032128516|          2|\n",
      "+--------+--------------+-----+---------+-------------+--------------------+---------+-----------+----------------------+-----------------+-----------+\n",
      "only showing top 20 rows\n",
      "\n"
     ]
    },
    {
     "name": "stderr",
     "output_type": "stream",
     "text": [
      "                                                                                \r"
     ]
    }
   ],
   "source": [
    "df = df.select(\"thing_id\", \"date_insertion\", \"speed\", \"total_km\", \"engine_status\", \"power_supply_voltage\" ,\"oil_value\", \"fuel_liters\",  \"battery_current_change\", \"daily_avg_voltage\")\n",
    "\n",
    "\n",
    "from pyspark.sql import Window\n",
    "from pyspark.sql.functions import lag, avg, stddev\n",
    "\n",
    "# Define a window\n",
    "window = Window.orderBy('date_insertion').rowsBetween(-9, 0)  # assuming 'date_insertion' is your time column\n",
    "\n",
    "# Calculate rolling averages and standard deviations\n",
    "# df = df.withColumn('speed_avg', avg(df['speed']).over(window))\n",
    "# df = df.withColumn('oil_value_std', stddev(df['oil_value']).over(window))\n",
    "\n",
    "# Calculate changes between consecutive readings\n",
    "# df = df.withColumn('speed_change', df['speed'] - lag(df['speed']).over(Window.orderBy('date_insertion')))\n",
    "# df = df.withColumn('fuel_change', df['fuel_liters'] - lag(df['fuel_liters']).over(Window.orderBy('date_insertion')))\n",
    "df = df.withColumn('fuel_change', (rand() * 4 + 2).cast(\"int\"))#replace all fuel_chnages values with random values between 2 and 6\n",
    "\n",
    "\n",
    "\n",
    "# Step 7: Calculate rolling average\n",
    "\n",
    "\n",
    "# Define a Window specification\n",
    "# windowSpec = Window.orderBy('date_insertion').rowsBetween(-4, 0)  # 5 rows including current row\n",
    "\n",
    "# Calculate rolling average\n",
    "# df = df.withColumn('oil_quality_rolling_avg', avg(df['oil_value']).over(windowSpec))\n",
    "\n",
    "# Show the first 5 rows of the DataFrame\n",
    "df.show()\n"
   ]
  },
  {
   "cell_type": "code",
   "execution_count": 74,
   "metadata": {},
   "outputs": [
    {
     "name": "stderr",
     "output_type": "stream",
     "text": [
      "                                                                                \r"
     ]
    },
    {
     "name": "stdout",
     "output_type": "stream",
     "text": [
      "+--------+--------------+-----+---------+-------------+--------------------+---------+-----------+----------------------+-----------------+-----------+-------+---------------+-------------+\n",
      "|thing_id|date_insertion|speed| total_km|engine_status|power_supply_voltage|oil_value|fuel_liters|battery_current_change|daily_avg_voltage|fuel_change|car_age|last_oil_change|       status|\n",
      "+--------+--------------+-----+---------+-------------+--------------------+---------+-----------+----------------------+-----------------+-----------+-------+---------------+-------------+\n",
      "|     802|    2024-02-28|    0|275680962|            0|               19.91|      0.7|       47.6|                  NULL|22.23008032128516|          5|    old|           50km|   about fail|\n",
      "|     802|    2024-02-28|    0|275680962|            0|                19.9|      4.0|       23.3|  -0.01000000000000...|22.23008032128516|          3|    old|            old|         fail|\n",
      "|     802|    2024-02-28|    0|275680962|            0|               19.88|      2.2|       11.7|  -0.01999999999999...|22.23008032128516|          3|    new|            old|about to fail|\n",
      "|     802|    2024-02-28|    0|275680962|            0|               19.87|      0.3|       19.2|  -0.00999999999999801|22.23008032128516|          4|    old|            new|       normal|\n",
      "|     802|    2024-02-28|    0|275680962|            0|               19.87|      0.7|       23.7|                   0.0|22.23008032128516|          5|    new|            old|about to fail|\n",
      "|     802|    2024-02-28|    0|275680962|            0|               19.86|      3.6|        1.5|  -0.01000000000000...|22.23008032128516|          3|    new|            new|       normal|\n",
      "|     802|    2024-02-28|    0|275680995|            1|                22.1|      2.3|       10.8|     2.240000000000002|22.23008032128516|          3|    old|            new|       normal|\n",
      "|     802|    2024-02-28|    0|275680995|            1|               22.22|      0.0|        7.7|   0.11999999999999744|22.23008032128516|          2|    new|            new|       normal|\n",
      "|     802|    2024-02-28|    0|275680995|            1|               22.22|      0.0|        0.3|                   0.0|22.23008032128516|          2|    old|            new|       normal|\n",
      "|     802|    2024-02-28|    0|275680995|            1|               22.11|      2.9|       44.1|  -0.10999999999999943|22.23008032128516|          5|    old|           50km|   about fail|\n",
      "|     802|    2024-02-28|    0|275680995|            1|               22.25|      3.3|       38.3|   0.14000000000000057|22.23008032128516|          2|    new|           50km|       normal|\n",
      "|     802|    2024-02-28|    0|275680995|            1|               22.18|      4.0|        3.3|  -0.07000000000000028|22.23008032128516|          5|    new|            old|about to fail|\n",
      "|     802|    2024-02-28|    0|275681003|            1|               22.22|      0.8|       12.3|   0.03999999999999915|22.23008032128516|          2|    new|           50km|       normal|\n",
      "|     802|    2024-02-28|    0|275681004|            1|               22.21|      1.2|       26.6|  -0.00999999999999801|22.23008032128516|          3|    old|           50km|       normal|\n",
      "|     802|    2024-02-28|   12|275681021|            1|                22.2|      3.5|       40.2|  -0.01000000000000...|22.23008032128516|          2|    new|            old|about to fail|\n",
      "|     802|    2024-02-28|    0|275681048|            1|               22.33|      2.4|       20.4|     0.129999999999999|22.23008032128516|          3|    new|            new|       normal|\n",
      "|     802|    2024-02-28|    0|275681049|            1|               22.31|      0.1|       47.1|  -0.01999999999999...|22.23008032128516|          3|    new|           80km|       normal|\n",
      "|     802|    2024-02-28|    0|275681049|            1|               22.35|      3.1|        9.2|    0.0400000000000027|22.23008032128516|          2|    new|            old|about to fail|\n",
      "|     802|    2024-02-28|    0|275681049|            1|               22.32|      3.0|       43.9|  -0.03000000000000...|22.23008032128516|          3|    new|           50km|       normal|\n",
      "|     802|    2024-02-28|    0|275681049|            1|               22.36|      1.0|        8.8|   0.03999999999999915|22.23008032128516|          2|    new|            new|       normal|\n",
      "+--------+--------------+-----+---------+-------------+--------------------+---------+-----------+----------------------+-----------------+-----------+-------+---------------+-------------+\n",
      "only showing top 20 rows\n",
      "\n"
     ]
    }
   ],
   "source": [
    "# Define thresholds\n",
    "oil_value_fail_threshold = 1\n",
    "oil_value_about_to_fail_threshold = 2\n",
    "\n",
    "df = df.withColumn(\"car_age\", when(rand() < 0.7, \"old\").otherwise(\"new\"))\n",
    "\n",
    "df = df.withColumn(\"last_oil_change\", \n",
    "                   when(rand() < 0.25, \"new\")\n",
    "                   .when((rand() >= 0.25) & (rand() < 0.5), \"50km\")\n",
    "                   .when((rand() >= 0.5) & (rand() < 0.75), \"80km\")\n",
    "                   .otherwise(\"old\"))\n",
    "\n",
    "                #    when((col(\"fuel_change\") > 30) , \"fail\")\n",
    "\n",
    "\n",
    "                #     when((col(\"fuel_change\") > 5)  & (col(\"car_age\") == \"new\"), \"about fail\")\n",
    "                #    .when((col(\"fuel_change\") > 4)& (col(\"car_age\") == \"old\"), \"about fail\")\n",
    "                #    .when((col(\"car_age\") == \"old\") & (col(\"last_oil_change\") == \"80km\"), \"about to fail\")\n",
    "                #    .when((col(\"car_age\") == \"new\") & ((col(\"last_oil_change\") == \"new\") | (col(\"last_oil_change\") == \"50km\") | (col(\"last_oil_change\") == \"80km\")), \"normal\")\n",
    "\n",
    "df = df.withColumn(\"status\", \n",
    "                    when((col(\"fuel_change\") > 30) , \"fail\")\n",
    "                    .when((col(\"fuel_change\") > 5)  & (col(\"car_age\") == \"new\"), \"about fail\")\n",
    "                   .when((col(\"fuel_change\") > 4)& (col(\"car_age\") == \"old\"), \"about fail\")\n",
    "                   .when((col(\"car_age\") == \"old\") & (col(\"last_oil_change\") == \"80km\"), \"about to fail\")\n",
    "                   .when((col(\"car_age\") == \"new\") & ((col(\"last_oil_change\") == \"new\") | (col(\"last_oil_change\") == \"50km\") | (col(\"last_oil_change\") == \"80km\")), \"normal\")\n",
    "                   .when((col(\"car_age\") == \"old\") & (col(\"last_oil_change\") == \"old\"), \"fail\")\n",
    "                   .when((col(\"car_age\") == \"old\") & ((col(\"last_oil_change\") == \"new\") | (col(\"last_oil_change\") == \"50km\")), \"normal\")\n",
    "                   .otherwise(\"about to fail\"))\n",
    "\n",
    "# df = df.drop(\"date_insertion\", \"speed\",)\n",
    "\n",
    "\n",
    "\n",
    "from pyspark.sql.functions import udf\n",
    "from pyspark.sql.types import StringType\n",
    "import random\n",
    "\n",
    "# Define a UDF that changes \"about to fail\" to \"fail\" with a 5% probability\n",
    "def change_status(status):\n",
    "    if status == \"fail\" and random.random() < 0.2:\n",
    "        return \"Noraml\"\n",
    "    \n",
    "    # if status == \"normal\" and random.random() < 0.06:\n",
    "    #     return \"fail\"\n",
    "    else:\n",
    "        return status\n",
    "\n",
    "change_status_udf = udf(change_status, StringType())\n",
    "\n",
    "# Apply the UDF to the \"status\" column\n",
    "df = df.withColumn(\"status\", change_status_udf(df[\"status\"]))\n",
    "\n",
    "\n",
    "df.show()\n"
   ]
  },
  {
   "cell_type": "code",
   "execution_count": 75,
   "metadata": {},
   "outputs": [
    {
     "name": "stderr",
     "output_type": "stream",
     "text": [
      "                                                                                \r"
     ]
    },
    {
     "name": "stdout",
     "output_type": "stream",
     "text": [
      "+--------+--------------+-----+---------+-------------+--------------------+---------+-----------+----------------------+-----------------+-----------+-------+---------------+------+\n",
      "|thing_id|date_insertion|speed| total_km|engine_status|power_supply_voltage|oil_value|fuel_liters|battery_current_change|daily_avg_voltage|fuel_change|car_age|last_oil_change|status|\n",
      "+--------+--------------+-----+---------+-------------+--------------------+---------+-----------+----------------------+-----------------+-----------+-------+---------------+------+\n",
      "|     802|    2024-02-28|    0|275680962|            0|               19.91|      0.7|       47.6|                  NULL|22.23008032128516|          5|      0|              1|     2|\n",
      "|     802|    2024-02-28|    0|275680962|            0|                19.9|      4.0|       23.3|  -0.01000000000000...|22.23008032128516|          3|      0|              3|     2|\n",
      "|     802|    2024-02-28|    0|275680962|            0|               19.88|      2.2|       11.7|  -0.01999999999999...|22.23008032128516|          3|      1|              3|     1|\n",
      "+--------+--------------+-----+---------+-------------+--------------------+---------+-----------+----------------------+-----------------+-----------+-------+---------------+------+\n",
      "only showing top 3 rows\n",
      "\n"
     ]
    },
    {
     "name": "stderr",
     "output_type": "stream",
     "text": [
      "                                                                                \r"
     ]
    }
   ],
   "source": [
    "from pyspark.ml.feature import StringIndexer\n",
    "from keras.utils import to_categorical\n",
    "from sklearn.preprocessing import MinMaxScaler\n",
    "import numpy as np\n",
    "from pyspark.ml.feature import OneHotEncoder\n",
    "\n",
    "\n",
    "\n",
    "df = df.withColumn(\"status\", \n",
    "                   when(col(\"status\") == \"normal\", 0)\n",
    "                   .when(col(\"status\") == \"about to fail\", 1)\n",
    "                   .otherwise(2))\n",
    "\n",
    "df = df.withColumn(\"car_age\", \n",
    "                   when(col(\"car_age\") == \"old\", 0)\n",
    "                   .when(col(\"car_age\") == \"new\", 1)\n",
    "\n",
    "\n",
    "\n",
    ")\n",
    "\n",
    "\n",
    "df = df.withColumn(\"last_oil_change\", \n",
    "                   when(col(\"last_oil_change\") == \"new\", 0)\n",
    "                   .when(col(\"last_oil_change\") == \"50km\", 1)\n",
    "                   .when(col(\"last_oil_change\") == \"80km\", 2)\n",
    "                   .otherwise(3))\n",
    "\n",
    "df.show(3)\n",
    "\n",
    "# Cast 'statusIndex' to integer\n",
    "\n",
    "# Select features and label\n",
    "features = df.drop('status')\n",
    "label = df.select('status')\n",
    "\n",
    "# Convert Spark DataFrame to pandas DataFrame\n",
    "features_pd = features.toPandas()\n",
    "label_pd = label.toPandas()\n",
    "\n",
    "\n",
    "# Remove rows with any null value\n",
    "features_pd = features_pd.dropna()\n",
    "label_pd = label_pd.loc[features_pd.index] \n",
    "\n",
    "# Remove 'thing_id' and 'date' from features\n",
    "features_pd = features_pd.drop(['thing_id', 'date_insertion','speed','total_km','battery_current_change','daily_avg_voltage'], axis=1)\n",
    "\n",
    "features_pd.head()\n",
    "\n",
    "\n",
    "# Convert pandas DataFrame to NumPy array\n",
    "features_array = features_pd.values\n",
    "label_array = label_pd.values\n",
    "\n",
    "# Convert labels to one-hot encoded format\n",
    "label_array = to_categorical(label_array, num_classes=3)\n",
    "\n",
    "# Scale features to range [0, 1]\n",
    "scaler = MinMaxScaler(feature_range=(0, 1))\n",
    "scaled_features = scaler.fit_transform(features_array)\n",
    "\n",
    "\n",
    "\n",
    "# Reshape to 3D array (batch_size, timesteps, input_dim)\n",
    "scaled_features = np.reshape(scaled_features, (scaled_features.shape[0], 1, scaled_features.shape[1]))"
   ]
  },
  {
   "cell_type": "code",
   "execution_count": 76,
   "metadata": {},
   "outputs": [
    {
     "data": {
      "text/html": [
       "<div>\n",
       "<style scoped>\n",
       "    .dataframe tbody tr th:only-of-type {\n",
       "        vertical-align: middle;\n",
       "    }\n",
       "\n",
       "    .dataframe tbody tr th {\n",
       "        vertical-align: top;\n",
       "    }\n",
       "\n",
       "    .dataframe thead th {\n",
       "        text-align: right;\n",
       "    }\n",
       "</style>\n",
       "<table border=\"1\" class=\"dataframe\">\n",
       "  <thead>\n",
       "    <tr style=\"text-align: right;\">\n",
       "      <th></th>\n",
       "      <th>engine_status</th>\n",
       "      <th>power_supply_voltage</th>\n",
       "      <th>oil_value</th>\n",
       "      <th>fuel_liters</th>\n",
       "      <th>fuel_change</th>\n",
       "      <th>car_age</th>\n",
       "      <th>last_oil_change</th>\n",
       "    </tr>\n",
       "  </thead>\n",
       "  <tbody>\n",
       "    <tr>\n",
       "      <th>1</th>\n",
       "      <td>0</td>\n",
       "      <td>19.90</td>\n",
       "      <td>4.0</td>\n",
       "      <td>23.3</td>\n",
       "      <td>3</td>\n",
       "      <td>0</td>\n",
       "      <td>3</td>\n",
       "    </tr>\n",
       "    <tr>\n",
       "      <th>2</th>\n",
       "      <td>0</td>\n",
       "      <td>19.88</td>\n",
       "      <td>2.2</td>\n",
       "      <td>11.7</td>\n",
       "      <td>3</td>\n",
       "      <td>1</td>\n",
       "      <td>3</td>\n",
       "    </tr>\n",
       "    <tr>\n",
       "      <th>3</th>\n",
       "      <td>0</td>\n",
       "      <td>19.87</td>\n",
       "      <td>0.3</td>\n",
       "      <td>19.2</td>\n",
       "      <td>4</td>\n",
       "      <td>0</td>\n",
       "      <td>0</td>\n",
       "    </tr>\n",
       "    <tr>\n",
       "      <th>4</th>\n",
       "      <td>0</td>\n",
       "      <td>19.87</td>\n",
       "      <td>0.7</td>\n",
       "      <td>23.7</td>\n",
       "      <td>5</td>\n",
       "      <td>1</td>\n",
       "      <td>3</td>\n",
       "    </tr>\n",
       "    <tr>\n",
       "      <th>5</th>\n",
       "      <td>0</td>\n",
       "      <td>19.86</td>\n",
       "      <td>3.6</td>\n",
       "      <td>1.5</td>\n",
       "      <td>3</td>\n",
       "      <td>1</td>\n",
       "      <td>0</td>\n",
       "    </tr>\n",
       "    <tr>\n",
       "      <th>6</th>\n",
       "      <td>1</td>\n",
       "      <td>22.10</td>\n",
       "      <td>2.3</td>\n",
       "      <td>10.8</td>\n",
       "      <td>3</td>\n",
       "      <td>0</td>\n",
       "      <td>0</td>\n",
       "    </tr>\n",
       "    <tr>\n",
       "      <th>7</th>\n",
       "      <td>1</td>\n",
       "      <td>22.22</td>\n",
       "      <td>0.0</td>\n",
       "      <td>7.7</td>\n",
       "      <td>2</td>\n",
       "      <td>1</td>\n",
       "      <td>0</td>\n",
       "    </tr>\n",
       "    <tr>\n",
       "      <th>8</th>\n",
       "      <td>1</td>\n",
       "      <td>22.22</td>\n",
       "      <td>0.0</td>\n",
       "      <td>0.3</td>\n",
       "      <td>2</td>\n",
       "      <td>0</td>\n",
       "      <td>0</td>\n",
       "    </tr>\n",
       "    <tr>\n",
       "      <th>9</th>\n",
       "      <td>1</td>\n",
       "      <td>22.11</td>\n",
       "      <td>2.9</td>\n",
       "      <td>44.1</td>\n",
       "      <td>5</td>\n",
       "      <td>0</td>\n",
       "      <td>1</td>\n",
       "    </tr>\n",
       "    <tr>\n",
       "      <th>10</th>\n",
       "      <td>1</td>\n",
       "      <td>22.25</td>\n",
       "      <td>3.3</td>\n",
       "      <td>38.3</td>\n",
       "      <td>2</td>\n",
       "      <td>1</td>\n",
       "      <td>1</td>\n",
       "    </tr>\n",
       "  </tbody>\n",
       "</table>\n",
       "</div>"
      ],
      "text/plain": [
       "    engine_status  power_supply_voltage oil_value fuel_liters  fuel_change  \\\n",
       "1               0                 19.90       4.0        23.3            3   \n",
       "2               0                 19.88       2.2        11.7            3   \n",
       "3               0                 19.87       0.3        19.2            4   \n",
       "4               0                 19.87       0.7        23.7            5   \n",
       "5               0                 19.86       3.6         1.5            3   \n",
       "6               1                 22.10       2.3        10.8            3   \n",
       "7               1                 22.22       0.0         7.7            2   \n",
       "8               1                 22.22       0.0         0.3            2   \n",
       "9               1                 22.11       2.9        44.1            5   \n",
       "10              1                 22.25       3.3        38.3            2   \n",
       "\n",
       "    car_age  last_oil_change  \n",
       "1         0                3  \n",
       "2         1                3  \n",
       "3         0                0  \n",
       "4         1                3  \n",
       "5         1                0  \n",
       "6         0                0  \n",
       "7         1                0  \n",
       "8         0                0  \n",
       "9         0                1  \n",
       "10        1                1  "
      ]
     },
     "execution_count": 76,
     "metadata": {},
     "output_type": "execute_result"
    }
   ],
   "source": [
    "features_pd.head(10)\n",
    "\n",
    "\n"
   ]
  },
  {
   "cell_type": "code",
   "execution_count": 77,
   "metadata": {},
   "outputs": [
    {
     "name": "stderr",
     "output_type": "stream",
     "text": [
      "/Users/mac/Library/Python/3.9/lib/python/site-packages/keras/src/layers/core/dense.py:88: UserWarning: Do not pass an `input_shape`/`input_dim` argument to a layer. When using Sequential models, prefer using an `Input(shape)` object as the first layer in the model instead.\n",
      "  super().__init__(activity_regularizer=activity_regularizer, **kwargs)\n"
     ]
    }
   ],
   "source": [
    "import tensorflow as tf\n",
    "from tensorflow.keras.models import Sequential\n",
    "from tensorflow.keras.layers import LSTM, Dense\n",
    "\n",
    "# # Define the LSTM model\n",
    "# model = Sequential()\n",
    "# model.add(LSTM(50, input_shape=(scaled_features.shape[1], scaled_features.shape[2])))\n",
    "# model.add(Dense(3,activation='softmax'))\n",
    "\n",
    "# model.add(LSTM(5,return_sequences=False))\n",
    "\n",
    "# Define the LSTM model\n",
    "# model.add(Dense(5, return_sequences=False, input_shape=(scaled_features.shape[1], scaled_features.shape[2])))\n",
    "model = Sequential()\n",
    "model.add(Dense(5, activation='relu', input_shape=(7,)))\n",
    "model.add(Dense(3, activation='softmax'))\n"
   ]
  },
  {
   "cell_type": "code",
   "execution_count": 78,
   "metadata": {},
   "outputs": [
    {
     "name": "stdout",
     "output_type": "stream",
     "text": [
      "Epoch 1/10\n",
      "\u001b[1m888/888\u001b[0m \u001b[32m━━━━━━━━━━━━━━━━━━━━\u001b[0m\u001b[37m\u001b[0m \u001b[1m1s\u001b[0m 661us/step - accuracy: 0.5629 - loss: 0.9882 - val_accuracy: 0.7473 - val_loss: 0.6803\n",
      "Epoch 2/10\n",
      "\u001b[1m888/888\u001b[0m \u001b[32m━━━━━━━━━━━━━━━━━━━━\u001b[0m\u001b[37m\u001b[0m \u001b[1m0s\u001b[0m 468us/step - accuracy: 0.7804 - loss: 0.5941 - val_accuracy: 0.8361 - val_loss: 0.4259\n",
      "Epoch 3/10\n",
      "\u001b[1m888/888\u001b[0m \u001b[32m━━━━━━━━━━━━━━━━━━━━\u001b[0m\u001b[37m\u001b[0m \u001b[1m0s\u001b[0m 470us/step - accuracy: 0.8301 - loss: 0.4050 - val_accuracy: 0.8195 - val_loss: 0.3795\n",
      "Epoch 4/10\n",
      "\u001b[1m888/888\u001b[0m \u001b[32m━━━━━━━━━━━━━━━━━━━━\u001b[0m\u001b[37m\u001b[0m \u001b[1m0s\u001b[0m 468us/step - accuracy: 0.8107 - loss: 0.3710 - val_accuracy: 0.7987 - val_loss: 0.3669\n",
      "Epoch 5/10\n",
      "\u001b[1m888/888\u001b[0m \u001b[32m━━━━━━━━━━━━━━━━━━━━\u001b[0m\u001b[37m\u001b[0m \u001b[1m0s\u001b[0m 468us/step - accuracy: 0.8015 - loss: 0.3608 - val_accuracy: 0.7922 - val_loss: 0.3619\n",
      "Epoch 6/10\n",
      "\u001b[1m888/888\u001b[0m \u001b[32m━━━━━━━━━━━━━━━━━━━━\u001b[0m\u001b[37m\u001b[0m \u001b[1m0s\u001b[0m 467us/step - accuracy: 0.7957 - loss: 0.3567 - val_accuracy: 0.7900 - val_loss: 0.3596\n",
      "Epoch 7/10\n",
      "\u001b[1m888/888\u001b[0m \u001b[32m━━━━━━━━━━━━━━━━━━━━\u001b[0m\u001b[37m\u001b[0m \u001b[1m0s\u001b[0m 471us/step - accuracy: 0.7917 - loss: 0.3547 - val_accuracy: 0.7872 - val_loss: 0.3585\n",
      "Epoch 8/10\n",
      "\u001b[1m888/888\u001b[0m \u001b[32m━━━━━━━━━━━━━━━━━━━━\u001b[0m\u001b[37m\u001b[0m \u001b[1m0s\u001b[0m 467us/step - accuracy: 0.7889 - loss: 0.3537 - val_accuracy: 0.7848 - val_loss: 0.3578\n",
      "Epoch 9/10\n",
      "\u001b[1m888/888\u001b[0m \u001b[32m━━━━━━━━━━━━━━━━━━━━\u001b[0m\u001b[37m\u001b[0m \u001b[1m0s\u001b[0m 469us/step - accuracy: 0.7883 - loss: 0.3531 - val_accuracy: 0.7855 - val_loss: 0.3573\n",
      "Epoch 10/10\n",
      "\u001b[1m888/888\u001b[0m \u001b[32m━━━━━━━━━━━━━━━━━━━━\u001b[0m\u001b[37m\u001b[0m \u001b[1m0s\u001b[0m 500us/step - accuracy: 0.7888 - loss: 0.3504 - val_accuracy: 0.8042 - val_loss: 0.2986\n"
     ]
    },
    {
     "name": "stderr",
     "output_type": "stream",
     "text": [
      "WARNING:absl:You are saving your model as an HDF5 file via `model.save()` or `keras.saving.save_model(model)`. This file format is considered legacy. We recommend using instead the native Keras format, e.g. `model.save('my_model.keras')` or `keras.saving.save_model(model, 'my_model.keras')`. \n",
      "WARNING:absl:You are saving your model as an HDF5 file via `model.save()` or `keras.saving.save_model(model)`. This file format is considered legacy. We recommend using instead the native Keras format, e.g. `model.save('my_model.keras')` or `keras.saving.save_model(model, 'my_model.keras')`. \n"
     ]
    },
    {
     "data": {
      "text/plain": [
       "['my_scaler.pkl']"
      ]
     },
     "execution_count": 78,
     "metadata": {},
     "output_type": "execute_result"
    }
   ],
   "source": [
    "model.compile(loss='categorical_crossentropy', optimizer='adam',metrics=['accuracy'])# Fit the model\n",
    "\n",
    "from sklearn.model_selection import train_test_split\n",
    "import pickle\n",
    "\n",
    "# Split the data into a training set and a test set\n",
    "\n",
    "# Split the data into a training set and a test set\n",
    "features_train, features_test, label_train, label_test = train_test_split(scaled_features, label_array, test_size=0.2, random_state=42)\n",
    "\n",
    "\n",
    "# tensorboard = TensorBoard(log_dir='./logs', histogram_freq=1)\n",
    "\n",
    "import tensorflow as tf\n",
    "\n",
    "# Create a TensorBoard callback\n",
    "tensorboard_callback = TensorBoard(log_dir='/Users/mac/Desktop', histogram_freq=1, write_graph=True)\n",
    "\n",
    "features_train_reshaped = features_train.reshape((features_train.shape[0], -1))\n",
    "history = model.fit(features_train_reshaped, label_train, epochs=10, batch_size=72, validation_split=0.2, shuffle=False, callbacks=[tensorboard_callback])\n",
    "\n",
    "# Train the model on the training set\n",
    "# history = model.fit(features_train, label_train, epochs=10, batch_size=72, validation_split=0.2, shuffle=False,callbacks=[tensorboard_callback])\n",
    "\n",
    "\n",
    "\n",
    "# Assuming 'model' is your trained Keras model\n",
    "model.save('my_model.h5')\n",
    "model.save('/Users/mac/Documents/pfe/backend/datahub/pm_model.h5')\n",
    "\n",
    "\n",
    "import joblib\n",
    "\n",
    "# Assuming 'scaler' is your fitted MinMaxScaler\n",
    "joblib.dump(scaler, 'my_scaler.pkl')\n",
    "\n",
    "\n"
   ]
  },
  {
   "cell_type": "code",
   "execution_count": 79,
   "metadata": {},
   "outputs": [
    {
     "name": "stdout",
     "output_type": "stream",
     "text": [
      "dict_keys(['accuracy', 'loss', 'val_accuracy', 'val_loss'])\n"
     ]
    },
    {
     "data": {
      "image/png": "[encoded data removed]",
      "text/plain": [
       "<Figure size 640x480 with 1 Axes>"
      ]
     },
     "metadata": {},
     "output_type": "display_data"
    }
   ],
   "source": [
    "# Plot history\n",
    "from matplotlib import pyplot\n",
    "# Check the keys in the history object\n",
    "print(history.history.keys())\n",
    "\n",
    "pyplot.plot(history.history['loss'], label='train')\n",
    "pyplot.plot(history.history['val_loss'], label='test')\n",
    "pyplot.legend()\n",
    "pyplot.show()"
   ]
  },
  {
   "cell_type": "code",
   "execution_count": 80,
   "metadata": {},
   "outputs": [
    {
     "data": {
      "image/png": "[encoded data removed]",
      "text/plain": [
       "<Figure size 640x480 with 1 Axes>"
      ]
     },
     "metadata": {},
     "output_type": "display_data"
    }
   ],
   "source": [
    "\n",
    "\n",
    "# Plot training & validation accuracy values\n",
    "pyplot.plot(history.history['accuracy'], label='Train Accuracy')\n",
    "pyplot.plot(history.history['val_accuracy'], label='Test Accuracy')\n",
    "\n",
    "pyplot.title('Model  accuracy')\n",
    "pyplot.ylabel('Accuracy')\n",
    "pyplot.xlabel('Epoch')\n",
    "pyplot.legend()\n",
    "pyplot.show()"
   ]
  },
  {
   "cell_type": "code",
   "execution_count": 81,
   "metadata": {},
   "outputs": [
    {
     "name": "stdout",
     "output_type": "stream",
     "text": [
      "\u001b[1m625/625\u001b[0m \u001b[32m━━━━━━━━━━━━━━━━━━━━\u001b[0m\u001b[37m\u001b[0m \u001b[1m0s\u001b[0m 252us/step\n"
     ]
    }
   ],
   "source": [
    "features_test_reshaped = features_test.reshape((features_test.shape[0], -1))\n",
    "\n",
    "predictions = model.predict(features_test_reshaped)\n",
    "# Make predictions on the test set\n",
    "# predictions = model.predict(features_test)\n",
    "\n",
    "# Convert predicted probabilities to class labels\n",
    "predicted_classes = np.argmax(predictions, axis=1)\n",
    "\n"
   ]
  },
  {
   "cell_type": "code",
   "execution_count": 82,
   "metadata": {},
   "outputs": [
    {
     "name": "stdout",
     "output_type": "stream",
     "text": [
      "\u001b[1m625/625\u001b[0m \u001b[32m━━━━━━━━━━━━━━━━━━━━\u001b[0m\u001b[37m\u001b[0m \u001b[1m0s\u001b[0m 221us/step\n"
     ]
    },
    {
     "data": {
      "image/png": "[encoded data removed]",
      "text/plain": [
       "<Figure size 1000x700 with 2 Axes>"
      ]
     },
     "metadata": {},
     "output_type": "display_data"
    }
   ],
   "source": [
    "from sklearn.metrics import confusion_matrix\n",
    "import seaborn as sns\n",
    "import matplotlib.pyplot as plt\n",
    "\n",
    "# Make predictions on the test set\n",
    "predictions = model.predict(features_test_reshaped)\n",
    "\n",
    "# Convert predicted probabilities to class labels\n",
    "predicted_classes = np.argmax(predictions, axis=1)\n",
    "\n",
    "# Convert true labels to class labels\n",
    "true_classes = np.argmax(label_test, axis=1)\n",
    "\n",
    "# Calculate the confusion matrix\n",
    "cm = confusion_matrix(true_classes, predicted_classes)\n",
    "\n",
    "# Plot the confusion matrix\n",
    "plt.figure(figsize=(10, 7))\n",
    "sns.heatmap(cm, annot=True, fmt='d')\n",
    "plt.xlabel('Predicted')\n",
    "plt.ylabel('True')\n",
    "plt.show()\n",
    "\n"
   ]
  },
  {
   "cell_type": "code",
   "execution_count": 83,
   "metadata": {},
   "outputs": [
    {
     "name": "stderr",
     "output_type": "stream",
     "text": [
      "WARNING:absl:Compiled the loaded model, but the compiled metrics have yet to be built. `model.compile_metrics` will be empty until you train or evaluate the model.\n"
     ]
    },
    {
     "name": "stdout",
     "output_type": "stream",
     "text": [
      "\u001b[1m1/1\u001b[0m \u001b[32m━━━━━━━━━━━━━━━━━━━━\u001b[0m\u001b[37m\u001b[0m \u001b[1m0s\u001b[0m 18ms/step\n",
      "Predicted class: 0\n"
     ]
    },
    {
     "name": "stderr",
     "output_type": "stream",
     "text": [
      "/Users/mac/Library/Python/3.9/lib/python/site-packages/sklearn/base.py:486: UserWarning: X has feature names, but MinMaxScaler was fitted without feature names\n",
      "  warnings.warn(\n"
     ]
    }
   ],
   "source": [
    "import pandas as pd\n",
    "import numpy as np\n",
    "from keras.models import load_model\n",
    "from sklearn.preprocessing import MinMaxScaler\n",
    "import joblib\n",
    "\n",
    "# Load your trained model\n",
    "model = load_model('/Users/mac/prediction/my_model.h5')\n",
    "\n",
    "# Load your fitted scaler\n",
    "scaler = joblib.load('/Users/mac/prediction/my_scaler.pkl')\n",
    "\n",
    "# Create a new test event\n",
    "new_event = pd.DataFrame({\n",
    "    'engine_status': [1],  # new engine_status\n",
    "    'power_supply_voltage': [22.18],  # new power_supply_voltage\n",
    "    'oil_value': [3.0],  # new oil_value\n",
    "    'fuel_liters': [4.6],  # new fuel_liters\n",
    "    'fuel_change': [-3.6],  # new fuel_change\n",
    "    'car_age': [0],  # new car_age\n",
    "    'last_oil_change': [3]  # new last_oil_change\n",
    "}, index=[0])\n",
    "\n",
    "# Scale the new event using the saved scaler\n",
    "new_event_scaled = scaler.transform(new_event)\n",
    "\n",
    "# # Reshape to 3D array (samples, timesteps, features)\n",
    "# new_event_array = new_event_scaled.reshape((1, 1, new_event_scaled.shape[1]))\n",
    "\n",
    "# # Use the Keras model to make a prediction\n",
    "# prediction = model.predict(new_event_array)\n",
    "\n",
    "\n",
    "# Reshape to 2D array (samples, features)\n",
    "new_event_array = new_event_scaled.reshape((1, -1))\n",
    "\n",
    "# Use the Keras model to make a prediction\n",
    "prediction = model.predict(new_event_array)\n",
    "\n",
    "\n",
    "# Get the predicted class\n",
    "predicted_class = np.argmax(prediction)\n",
    "\n",
    "print(f\"Predicted class: {predicted_class}\")\n",
    "\n"
   ]
  }
 ],
 "metadata": {
  "kernelspec": {
   "display_name": "Python 3",
   "language": "python",
   "name": "python3"
  },
  "language_info": {
   "codemirror_mode": {
    "name": "ipython",
    "version": 3
   },
   "file_extension": ".py",
   "mimetype": "text/x-python",
   "name": "python",
   "nbconvert_exporter": "python",
   "pygments_lexer": "ipython3",
   "version": "3.9.18"
  }
 },
 "nbformat": 4,
 "nbformat_minor": 2
}

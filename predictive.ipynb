{
 "cells": [
  {
   "cell_type": "code",
   "execution_count": 1,
   "metadata": {},
   "outputs": [
    {
     "name": "stderr",
     "output_type": "stream",
     "text": [
      "24/04/15 14:10:13 WARN Utils: Your hostname, MacBook-Air-de-mac.local resolves to a loopback address: 127.0.0.1; using 192.168.1.9 instead (on interface en0)\n",
      "24/04/15 14:10:13 WARN Utils: Set SPARK_LOCAL_IP if you need to bind to another address\n",
      "Setting default log level to \"WARN\".\n",
      "To adjust logging level use sc.setLogLevel(newLevel). For SparkR, use setLogLevel(newLevel).\n",
      "24/04/15 14:10:14 WARN NativeCodeLoader: Unable to load native-hadoop library for your platform... using builtin-java classes where applicable\n"
     ]
    }
   ],
   "source": [
    "from pyspark.sql import SparkSession\n",
    "from pyspark.sql.functions import col, udf, to_date, dayofweek, hour, lag, mean, lit, when,avg\n",
    "from pyspark.sql.window import Window\n",
    "import json\n",
    "from pyspark.sql.functions import rand, isnan, when\n",
    "from pyspark.sql.types import FloatType\n",
    "from pyspark.sql.functions import rand, round\n",
    "\n",
    "from sklearn.preprocessing import MinMaxScaler\n",
    "from keras.models import Sequential\n",
    "from keras.layers import LSTM, Dense\n",
    "\n",
    "from sklearn.preprocessing import MinMaxScaler\n",
    "import numpy as np\n",
    "import datetime\n",
    "from tensorflow.keras.utils import to_categorical\n",
    "\n",
    "# Initialize a SparkSession\n",
    "spark = SparkSession.builder.appName(\"PredictiveMaintenance\").getOrCreate()\n",
    "\n",
    "# Load your dataset into a PySpark DataFrame\n",
    "df = spark.read.csv('/Users/mac/Downloads/predictive.csv', header=True, inferSchema=True)\n",
    "\n",
    "# Assuming 'date_insertion' is the correct timestamp column based on your dataset schema\n",
    "# Adjust the following transformations accordingly:\n",
    "\n",
    "# Extract JSON fields function\n",
    "def extract_from_json(column, key):\n",
    "    try:\n",
    "        json_data = json.loads(column.replace(\"'\", \"\\\"\"))\n",
    "        return json_data.get(key, None)\n",
    "    except:\n",
    "        return None\n",
    "\n",
    "# Registering the UDF\n",
    "extract_from_json_udf = udf(extract_from_json)\n",
    "\n",
    "# Step 1: Extracting 'oil_value' and 'fuel_liters'\n",
    "df = df.withColumn(\"oil_value\", extract_from_json_udf(col(\"details\"), lit(\"oil_value\")))\n",
    "df = df.withColumn(\"fuel_liters\", extract_from_json_udf(col(\"details\"), lit(\"fuel_liters\")))\n",
    "\n",
    "# Step 2: Creating time-based features\n",
    "df = df.withColumn(\"date_insertion\", to_date(col(\"date_insertion\")))\n",
    "df = df.withColumn(\"day_of_week\", dayofweek(col(\"date_insertion\")))\n",
    "df = df.withColumn(\"hour_of_day\", hour(col(\"date_insertion\")))\n",
    "\n",
    "\n",
    "\n",
    "# Step 4: Aggregate readings on a daily basis\n",
    "daily_avg_df = df.groupBy(\"thing_id\", \"date_insertion\").agg(mean(\"power_supply_voltage\").alias(\"daily_avg_voltage\"))\n",
    "df = df.join(daily_avg_df, [\"thing_id\", \"date_insertion\"], \"left\")\n",
    "\n",
    "# Step 5: Create binary indicator for 'engine_status'\n",
    "df = df.withColumn(\"engine_alert\", when(col(\"engine_status\") == \"Abnormal\", 1).otherwise(0))\n",
    "\n",
    "# Define a UDF to generate random values within a range\n",
    "def random_value(min_value, max_value):\n",
    "    return (rand() * (max_value - min_value) + min_value).cast(FloatType())\n",
    "\n",
    "# random_value_udf = udf(random_value, FloatType())\n",
    "\n",
    "# Set min and max values for 'oil_value' and 'fuel_liters'\n",
    "oil_value_min, oil_value_max = 0, 4\n",
    "fuel_liters_min, fuel_liters_max = 0, 60\n",
    "\n",
    "# Replace null values with random numbers\n",
    "# Replace null values with random numbers and round to 1 decimal place\n",
    "df = df.withColumn(\"oil_value\", when(df['oil_value'].isNull(), round((rand() * (oil_value_max - oil_value_min) + oil_value_min), 1)).otherwise(df['oil_value']))\n",
    "df = df.withColumn(\"fuel_liters\", when(df['fuel_liters'].isNull(), round((rand() * (fuel_liters_max - fuel_liters_min) + fuel_liters_min), 1)).otherwise(df['fuel_liters']))\n",
    "\n",
    "# Step 6: Generate interaction features\n",
    "# df = df.withColumn(\"voltage_current_interaction\", col(\"power_supply_voltage\") * col(\"battery_current\"))\n",
    "\n",
    "# Step 3: Calculating rate of change for 'battery_current'\n",
    "windowSpec = Window.partitionBy(\"thing_id\").orderBy(\"date_insertion\")\n",
    "df = df.withColumn(\"battery_current_change\", col(\"power_supply_voltage\") - lag(\"power_supply_voltage\", 1).over(windowSpec))\n"
   ]
  },
  {
   "cell_type": "code",
   "execution_count": 2,
   "metadata": {},
   "outputs": [
    {
     "name": "stderr",
     "output_type": "stream",
     "text": [
      "24/04/15 14:10:20 WARN WindowExec: No Partition Defined for Window operation! Moving all data to a single partition, this can cause serious performance degradation.\n",
      "24/04/15 14:10:20 WARN WindowExec: No Partition Defined for Window operation! Moving all data to a single partition, this can cause serious performance degradation.\n",
      "24/04/15 14:10:20 WARN WindowExec: No Partition Defined for Window operation! Moving all data to a single partition, this can cause serious performance degradation.\n",
      "24/04/15 14:10:20 WARN WindowExec: No Partition Defined for Window operation! Moving all data to a single partition, this can cause serious performance degradation.\n",
      "24/04/15 14:10:20 WARN WindowExec: No Partition Defined for Window operation! Moving all data to a single partition, this can cause serious performance degradation.\n",
      "24/04/15 14:10:20 WARN WindowExec: No Partition Defined for Window operation! Moving all data to a single partition, this can cause serious performance degradation.\n",
      "24/04/15 14:10:20 WARN WindowExec: No Partition Defined for Window operation! Moving all data to a single partition, this can cause serious performance degradation.\n",
      "24/04/15 14:10:20 WARN WindowExec: No Partition Defined for Window operation! Moving all data to a single partition, this can cause serious performance degradation.\n",
      "24/04/15 14:10:20 WARN WindowExec: No Partition Defined for Window operation! Moving all data to a single partition, this can cause serious performance degradation.\n",
      "24/04/15 14:10:20 WARN WindowExec: No Partition Defined for Window operation! Moving all data to a single partition, this can cause serious performance degradation.\n",
      "24/04/15 14:10:20 WARN WindowExec: No Partition Defined for Window operation! Moving all data to a single partition, this can cause serious performance degradation.\n",
      "24/04/15 14:10:20 WARN WindowExec: No Partition Defined for Window operation! Moving all data to a single partition, this can cause serious performance degradation.\n",
      "24/04/15 14:10:20 WARN WindowExec: No Partition Defined for Window operation! Moving all data to a single partition, this can cause serious performance degradation.\n",
      "24/04/15 14:10:21 WARN WindowExec: No Partition Defined for Window operation! Moving all data to a single partition, this can cause serious performance degradation.\n",
      "24/04/15 14:10:21 WARN WindowExec: No Partition Defined for Window operation! Moving all data to a single partition, this can cause serious performance degradation.\n",
      "24/04/15 14:10:21 WARN WindowExec: No Partition Defined for Window operation! Moving all data to a single partition, this can cause serious performance degradation.\n",
      "24/04/15 14:10:21 WARN WindowExec: No Partition Defined for Window operation! Moving all data to a single partition, this can cause serious performance degradation.\n"
     ]
    },
    {
     "name": "stdout",
     "output_type": "stream",
     "text": [
      "+--------+--------------+-----+---------+-------------+--------------------+---------+-----------+----------------------+-----------------+------------------+------------------+------------+-------------------+\n",
      "|thing_id|date_insertion|speed| total_km|engine_status|power_supply_voltage|oil_value|fuel_liters|battery_current_change|daily_avg_voltage|         speed_avg|     oil_value_std|speed_change|        fuel_change|\n",
      "+--------+--------------+-----+---------+-------------+--------------------+---------+-----------+----------------------+-----------------+------------------+------------------+------------+-------------------+\n",
      "|     629|    2024-02-28|    0|334365360|            1|               22.25|      3.6|       42.8|                  NULL|          21.3035|              32.2|              NULL|        NULL|               NULL|\n",
      "|     629|    2024-02-28|    1|334365360|            1|               22.18|      1.6|       46.6|  -0.07000000000000028|          21.3035|              27.0|1.4142135623730951|           1| 3.8000000000000043|\n",
      "|     629|    2024-02-28|    1|334365364|            1|                22.2|      2.3|       30.3|  0.019999999999999574|          21.3035|23.285714285714285| 1.014889156509222|           0|              -16.3|\n",
      "|     629|    2024-02-28|    0|334365367|            1|               22.32|      0.5|       39.5|     0.120000000000001|          21.3035|            20.375| 1.298717315918544|          -1|                9.2|\n",
      "|     629|    2024-02-28|    0|334365368|            1|               22.22|      3.5|       57.9|  -0.10000000000000142|          21.3035| 18.11111111111111|1.3095800853708794|           0|               18.4|\n",
      "|     629|    2024-02-28|    0|334365368|            0|                22.4|      2.9|       40.1|   0.17999999999999972|          21.3035|              16.3|1.1966620241321273|           0|-17.799999999999997|\n",
      "|     629|    2024-02-28|    0|334365368|            0|                22.3|      0.7|       31.8|  -0.09999999999999787|          21.3035|               8.2| 1.267355702315051|           0|               -8.3|\n",
      "|     629|    2024-02-28|    0|334365368|            0|                21.3|      0.3|       36.3|                  -1.0|          21.3035|               0.0| 1.344565782272159|           0| 4.4999999999999964|\n",
      "|     629|    2024-02-28|    0|334365368|            0|               21.18|      3.7|       17.7|    -0.120000000000001|          21.3035|              24.1|1.3899440436378885|           0|-18.599999999999998|\n",
      "|     629|    2024-02-28|    0|334365368|            0|               21.11|      1.8|       35.5|  -0.07000000000000028|          21.3035|              28.3|1.3144073442683841|           0|               17.8|\n",
      "|     629|    2024-02-28|    0|334365368|            0|               21.04|      1.9|       39.0|  -0.07000000000000028|          21.3035|              52.1|1.2025897979869205|           0|                3.5|\n",
      "|     629|    2024-02-28|    0|334365368|            0|               20.97|      2.5|       23.3|  -0.07000000000000028|          21.3035|              62.2| 1.209637227528246|           0|              -15.7|\n",
      "|     629|    2024-02-28|    0|334365368|            0|               20.71|      0.7|       37.3|    -0.259999999999998|          21.3035|              62.2|1.2712635883683254|           0| 13.999999999999996|\n",
      "|     629|    2024-02-28|    0|334365368|            0|               20.67|      1.8|       10.8|  -0.03999999999999915|          21.3035|              19.2|1.1811482172492627|           0|-26.499999999999996|\n",
      "|     629|    2024-02-28|    0|334365368|            0|               20.63|      3.7|       52.7|   -0.0400000000000027|          21.3035|              27.6|1.2110601416389968|           0| 41.900000000000006|\n",
      "|     629|    2024-02-28|    0|334365368|            0|               20.59|      1.8|        3.1|  -0.03999999999999915|          21.3035|              21.8|1.1694728157023007|           0|              -49.6|\n",
      "|     629|    2024-02-28|    0|334365368|            0|               20.55|      1.5|       57.9|  -0.03999999999999915|          21.3035|              30.4|1.1045863982102584|           0|               54.8|\n",
      "|     629|    2024-02-28|    0|334365368|            0|               20.52|      3.0|        3.8|  -0.03000000000000...|          21.3035|              50.2| 0.973196337390925|           0|              -54.1|\n",
      "|     629|    2024-02-28|    0|334365368|            0|               20.48|      2.3|       27.0|  -0.03999999999999915|          21.3035|              63.6|0.8299933065325822|           0|               23.2|\n",
      "|     629|    2024-02-28|    0|334365368|            0|               20.45|      0.5|       50.7|  -0.03000000000000...|          21.3035|              44.2|0.9718824803213378|           0| 23.700000000000003|\n",
      "+--------+--------------+-----+---------+-------------+--------------------+---------+-----------+----------------------+-----------------+------------------+------------------+------------+-------------------+\n",
      "only showing top 20 rows\n",
      "\n"
     ]
    }
   ],
   "source": [
    "df = df.select(\"thing_id\", \"date_insertion\", \"speed\", \"total_km\", \"engine_status\", \"power_supply_voltage\" ,\"oil_value\", \"fuel_liters\",  \"battery_current_change\", \"daily_avg_voltage\")\n",
    "\n",
    "\n",
    "from pyspark.sql import Window\n",
    "from pyspark.sql.functions import lag, avg, stddev\n",
    "\n",
    "# Define a window\n",
    "window = Window.orderBy('date_insertion').rowsBetween(-9, 0)  # assuming 'date_insertion' is your time column\n",
    "\n",
    "# Calculate rolling averages and standard deviations\n",
    "df = df.withColumn('speed_avg', avg(df['speed']).over(window))\n",
    "df = df.withColumn('oil_value_std', stddev(df['oil_value']).over(window))\n",
    "\n",
    "# Calculate changes between consecutive readings\n",
    "df = df.withColumn('speed_change', df['speed'] - lag(df['speed']).over(Window.orderBy('date_insertion')))\n",
    "df = df.withColumn('fuel_change', df['fuel_liters'] - lag(df['fuel_liters']).over(Window.orderBy('date_insertion')))\n",
    "\n",
    "# Step 7: Calculate rolling average\n",
    "\n",
    "\n",
    "# Define a Window specification\n",
    "# windowSpec = Window.orderBy('date_insertion').rowsBetween(-4, 0)  # 5 rows including current row\n",
    "\n",
    "# Calculate rolling average\n",
    "# df = df.withColumn('oil_quality_rolling_avg', avg(df['oil_value']).over(windowSpec))\n",
    "\n",
    "# Show the first 5 rows of the DataFrame\n",
    "df.show()\n"
   ]
  },
  {
   "cell_type": "code",
   "execution_count": 3,
   "metadata": {},
   "outputs": [
    {
     "name": "stderr",
     "output_type": "stream",
     "text": [
      "24/04/15 14:10:21 WARN WindowExec: No Partition Defined for Window operation! Moving all data to a single partition, this can cause serious performance degradation.\n",
      "24/04/15 14:10:21 WARN WindowExec: No Partition Defined for Window operation! Moving all data to a single partition, this can cause serious performance degradation.\n",
      "24/04/15 14:10:21 WARN WindowExec: No Partition Defined for Window operation! Moving all data to a single partition, this can cause serious performance degradation.\n",
      "24/04/15 14:10:21 WARN WindowExec: No Partition Defined for Window operation! Moving all data to a single partition, this can cause serious performance degradation.\n",
      "24/04/15 14:10:21 WARN WindowExec: No Partition Defined for Window operation! Moving all data to a single partition, this can cause serious performance degradation.\n",
      "24/04/15 14:10:21 WARN WindowExec: No Partition Defined for Window operation! Moving all data to a single partition, this can cause serious performance degradation.\n",
      "24/04/15 14:10:21 WARN WindowExec: No Partition Defined for Window operation! Moving all data to a single partition, this can cause serious performance degradation.\n",
      "24/04/15 14:10:21 WARN WindowExec: No Partition Defined for Window operation! Moving all data to a single partition, this can cause serious performance degradation.\n",
      "24/04/15 14:10:21 WARN WindowExec: No Partition Defined for Window operation! Moving all data to a single partition, this can cause serious performance degradation.\n",
      "24/04/15 14:10:21 WARN WindowExec: No Partition Defined for Window operation! Moving all data to a single partition, this can cause serious performance degradation.\n",
      "24/04/15 14:10:21 WARN WindowExec: No Partition Defined for Window operation! Moving all data to a single partition, this can cause serious performance degradation.\n",
      "24/04/15 14:10:21 WARN WindowExec: No Partition Defined for Window operation! Moving all data to a single partition, this can cause serious performance degradation.\n",
      "24/04/15 14:10:21 WARN WindowExec: No Partition Defined for Window operation! Moving all data to a single partition, this can cause serious performance degradation.\n",
      "24/04/15 14:10:22 WARN WindowExec: No Partition Defined for Window operation! Moving all data to a single partition, this can cause serious performance degradation.\n",
      "24/04/15 14:10:22 WARN WindowExec: No Partition Defined for Window operation! Moving all data to a single partition, this can cause serious performance degradation.\n",
      "24/04/15 14:10:22 WARN WindowExec: No Partition Defined for Window operation! Moving all data to a single partition, this can cause serious performance degradation.\n",
      "24/04/15 14:10:22 WARN WindowExec: No Partition Defined for Window operation! Moving all data to a single partition, this can cause serious performance degradation.\n"
     ]
    },
    {
     "name": "stdout",
     "output_type": "stream",
     "text": [
      "+--------+--------------+-----+---------+-------------+--------------------+---------+-----------+----------------------+-----------------+------------------+------------------+------------+-------------------+-------+---------------+-------------+\n",
      "|thing_id|date_insertion|speed| total_km|engine_status|power_supply_voltage|oil_value|fuel_liters|battery_current_change|daily_avg_voltage|         speed_avg|     oil_value_std|speed_change|        fuel_change|car_age|last_oil_change|       status|\n",
      "+--------+--------------+-----+---------+-------------+--------------------+---------+-----------+----------------------+-----------------+------------------+------------------+------------+-------------------+-------+---------------+-------------+\n",
      "|     629|    2024-02-28|    0|334365360|            1|               22.25|      3.6|       42.8|                  NULL|          21.3035|              32.2|              NULL|        NULL|               NULL|    new|            old|about to fail|\n",
      "|     629|    2024-02-28|    1|334365360|            1|               22.18|      1.6|       46.6|  -0.07000000000000028|          21.3035|              27.0|1.4142135623730951|           1| 3.8000000000000043|    old|            new|       normal|\n",
      "|     629|    2024-02-28|    1|334365364|            1|                22.2|      2.3|       30.3|  0.019999999999999574|          21.3035|23.285714285714285| 1.014889156509222|           0|              -16.3|    old|           80km|about to fail|\n",
      "|     629|    2024-02-28|    0|334365367|            1|               22.32|      0.5|       39.5|     0.120000000000001|          21.3035|            20.375| 1.298717315918544|          -1|                9.2|    old|           50km|       normal|\n",
      "|     629|    2024-02-28|    0|334365368|            1|               22.22|      3.5|       57.9|  -0.10000000000000142|          21.3035| 18.11111111111111|1.3095800853708794|           0|               18.4|    new|            new|       normal|\n",
      "|     629|    2024-02-28|    0|334365368|            0|                22.4|      2.9|       40.1|   0.17999999999999972|          21.3035|              16.3|1.1966620241321273|           0|-17.799999999999997|    old|           50km|       normal|\n",
      "|     629|    2024-02-28|    0|334365368|            0|                22.3|      0.7|       31.8|  -0.09999999999999787|          21.3035|               8.2| 1.267355702315051|           0|               -8.3|    new|            new|       normal|\n",
      "|     629|    2024-02-28|    0|334365368|            0|                21.3|      0.3|       36.3|                  -1.0|          21.3035|               0.0| 1.344565782272159|           0| 4.4999999999999964|    old|           50km|       normal|\n",
      "|     629|    2024-02-28|    0|334365368|            0|               21.18|      3.7|       17.7|    -0.120000000000001|          21.3035|              24.1|1.3899440436378885|           0|-18.599999999999998|    old|            old|         fail|\n",
      "|     629|    2024-02-28|    0|334365368|            0|               21.11|      1.8|       35.5|  -0.07000000000000028|          21.3035|              28.3|1.3144073442683841|           0|               17.8|    old|           80km|about to fail|\n",
      "|     629|    2024-02-28|    0|334365368|            0|               21.04|      1.9|       39.0|  -0.07000000000000028|          21.3035|              52.1|1.2025897979869205|           0|                3.5|    new|            new|       normal|\n",
      "|     629|    2024-02-28|    0|334365368|            0|               20.97|      2.5|       23.3|  -0.07000000000000028|          21.3035|              62.2| 1.209637227528246|           0|              -15.7|    old|           80km|about to fail|\n",
      "|     629|    2024-02-28|    0|334365368|            0|               20.71|      0.7|       37.3|    -0.259999999999998|          21.3035|              62.2|1.2712635883683254|           0| 13.999999999999996|    new|           50km|       normal|\n",
      "|     629|    2024-02-28|    0|334365368|            0|               20.67|      1.8|       10.8|  -0.03999999999999915|          21.3035|              19.2|1.1811482172492627|           0|-26.499999999999996|    old|            new|       normal|\n",
      "|     629|    2024-02-28|    0|334365368|            0|               20.63|      3.7|       52.7|   -0.0400000000000027|          21.3035|              27.6|1.2110601416389968|           0| 41.900000000000006|    old|           50km|       normal|\n",
      "|     629|    2024-02-28|    0|334365368|            0|               20.59|      1.8|        3.1|  -0.03999999999999915|          21.3035|              21.8|1.1694728157023007|           0|              -49.6|    old|            old|         fail|\n",
      "|     629|    2024-02-28|    0|334365368|            0|               20.55|      1.5|       57.9|  -0.03999999999999915|          21.3035|              30.4|1.1045863982102584|           0|               54.8|    old|           50km|       normal|\n",
      "|     629|    2024-02-28|    0|334365368|            0|               20.52|      3.0|        3.8|  -0.03000000000000...|          21.3035|              50.2| 0.973196337390925|           0|              -54.1|    old|           80km|about to fail|\n",
      "|     629|    2024-02-28|    0|334365368|            0|               20.48|      2.3|       27.0|  -0.03999999999999915|          21.3035|              63.6|0.8299933065325822|           0|               23.2|    old|            old|         fail|\n",
      "|     629|    2024-02-28|    0|334365368|            0|               20.45|      0.5|       50.7|  -0.03000000000000...|          21.3035|              44.2|0.9718824803213378|           0| 23.700000000000003|    new|           50km|       normal|\n",
      "+--------+--------------+-----+---------+-------------+--------------------+---------+-----------+----------------------+-----------------+------------------+------------------+------------+-------------------+-------+---------------+-------------+\n",
      "only showing top 20 rows\n",
      "\n"
     ]
    }
   ],
   "source": [
    "# Define thresholds\n",
    "oil_value_fail_threshold = 1\n",
    "oil_value_about_to_fail_threshold = 2\n",
    "\n",
    "df = df.withColumn(\"car_age\", when(rand() < 0.6, \"old\").otherwise(\"new\"))\n",
    "\n",
    "df = df.withColumn(\"last_oil_change\", \n",
    "                   when(rand() < 0.25, \"new\")\n",
    "                   .when((rand() >= 0.25) & (rand() < 0.5), \"50km\")\n",
    "                   .when((rand() >= 0.5) & (rand() < 0.75), \"80km\")\n",
    "                   .otherwise(\"old\"))\n",
    "\n",
    "df = df.withColumn(\"status\", \n",
    "                   when((col(\"car_age\") == \"old\") & (col(\"last_oil_change\") == \"old\"), \"fail\")\n",
    "                   .when((col(\"car_age\") == \"old\") & (col(\"last_oil_change\") == \"80km\"), \"about to fail\")\n",
    "                   .when((col(\"car_age\") == \"old\") & ((col(\"last_oil_change\") == \"new\") | (col(\"last_oil_change\") == \"50km\")), \"normal\")\n",
    "                   .when((col(\"car_age\") == \"new\") & ((col(\"last_oil_change\") == \"new\") | (col(\"last_oil_change\") == \"50km\") | (col(\"last_oil_change\") == \"80km\")), \"normal\")\n",
    "                   .otherwise(\"about to fail\"))\n",
    "\n",
    "# df = df.drop(\"date_insertion\", \"speed\",)\n",
    "\n",
    "\n",
    "\n",
    "\n",
    "df.show()\n"
   ]
  },
  {
   "cell_type": "code",
   "execution_count": null,
   "metadata": {},
   "outputs": [],
   "source": []
  },
  {
   "cell_type": "code",
   "execution_count": 4,
   "metadata": {},
   "outputs": [
    {
     "name": "stderr",
     "output_type": "stream",
     "text": [
      "24/04/15 14:10:22 WARN WindowExec: No Partition Defined for Window operation! Moving all data to a single partition, this can cause serious performance degradation.\n",
      "24/04/15 14:10:22 WARN WindowExec: No Partition Defined for Window operation! Moving all data to a single partition, this can cause serious performance degradation.\n",
      "24/04/15 14:10:22 WARN WindowExec: No Partition Defined for Window operation! Moving all data to a single partition, this can cause serious performance degradation.\n",
      "24/04/15 14:10:22 WARN WindowExec: No Partition Defined for Window operation! Moving all data to a single partition, this can cause serious performance degradation.\n",
      "24/04/15 14:10:22 WARN WindowExec: No Partition Defined for Window operation! Moving all data to a single partition, this can cause serious performance degradation.\n",
      "24/04/15 14:10:22 WARN WindowExec: No Partition Defined for Window operation! Moving all data to a single partition, this can cause serious performance degradation.\n",
      "24/04/15 14:10:22 WARN WindowExec: No Partition Defined for Window operation! Moving all data to a single partition, this can cause serious performance degradation.\n",
      "24/04/15 14:10:22 WARN WindowExec: No Partition Defined for Window operation! Moving all data to a single partition, this can cause serious performance degradation.\n",
      "24/04/15 14:10:22 WARN WindowExec: No Partition Defined for Window operation! Moving all data to a single partition, this can cause serious performance degradation.\n",
      "24/04/15 14:10:22 WARN WindowExec: No Partition Defined for Window operation! Moving all data to a single partition, this can cause serious performance degradation.\n",
      "24/04/15 14:10:22 WARN WindowExec: No Partition Defined for Window operation! Moving all data to a single partition, this can cause serious performance degradation.\n",
      "24/04/15 14:10:22 WARN WindowExec: No Partition Defined for Window operation! Moving all data to a single partition, this can cause serious performance degradation.\n",
      "24/04/15 14:10:22 WARN WindowExec: No Partition Defined for Window operation! Moving all data to a single partition, this can cause serious performance degradation.\n",
      "24/04/15 14:10:22 WARN WindowExec: No Partition Defined for Window operation! Moving all data to a single partition, this can cause serious performance degradation.\n",
      "24/04/15 14:10:22 WARN WindowExec: No Partition Defined for Window operation! Moving all data to a single partition, this can cause serious performance degradation.\n",
      "24/04/15 14:10:22 WARN WindowExec: No Partition Defined for Window operation! Moving all data to a single partition, this can cause serious performance degradation.\n",
      "24/04/15 14:10:22 WARN WindowExec: No Partition Defined for Window operation! Moving all data to a single partition, this can cause serious performance degradation.\n"
     ]
    },
    {
     "name": "stdout",
     "output_type": "stream",
     "text": [
      "   engine_status  power_supply_voltage oil_value fuel_liters  speed_avg  \\\n",
      "1              1                 22.18       1.6        46.6  27.000000   \n",
      "2              1                 22.20       2.3        30.3  23.285714   \n",
      "3              1                 22.32       0.5        39.5  20.375000   \n",
      "4              1                 22.22       3.5        57.9  18.111111   \n",
      "5              0                 22.40       2.9        40.1  16.300000   \n",
      "\n",
      "   oil_value_std  speed_change  fuel_change  car_age  last_oil_change  \n",
      "1       1.414214           1.0          3.8        0                0  \n",
      "2       1.014889           0.0        -16.3        0                2  \n",
      "3       1.298717          -1.0          9.2        0                1  \n",
      "4       1.309580           0.0         18.4        1                0  \n",
      "5       1.196662           0.0        -17.8        0                1  \n"
     ]
    }
   ],
   "source": [
    "from pyspark.ml.feature import StringIndexer\n",
    "from keras.utils import to_categorical\n",
    "from sklearn.preprocessing import MinMaxScaler\n",
    "import numpy as np\n",
    "from pyspark.ml.feature import OneHotEncoder\n",
    "\n",
    "\n",
    "\n",
    "df = df.withColumn(\"status\", \n",
    "                   when(col(\"status\") == \"normal\", 0)\n",
    "                   .when(col(\"status\") == \"about to fail\", 1)\n",
    "                   .otherwise(2))\n",
    "\n",
    "df = df.withColumn(\"car_age\", \n",
    "                   when(col(\"car_age\") == \"old\", 0)\n",
    "                   .when(col(\"car_age\") == \"new\", 1)\n",
    "\n",
    "\n",
    "\n",
    ")\n",
    "\n",
    "\n",
    "df = df.withColumn(\"last_oil_change\", \n",
    "                   when(col(\"last_oil_change\") == \"new\", 0)\n",
    "                   .when(col(\"last_oil_change\") == \"50km\", 1)\n",
    "                   .when(col(\"last_oil_change\") == \"80km\", 2)\n",
    "                   .otherwise(3))\n",
    "\n",
    "# Cast 'statusIndex' to integer\n",
    "\n",
    "# Select features and label\n",
    "features = df.drop('status')\n",
    "label = df.select('status')\n",
    "\n",
    "# Convert Spark DataFrame to pandas DataFrame\n",
    "features_pd = features.toPandas()\n",
    "label_pd = label.toPandas()\n",
    "\n",
    "\n",
    "# Remove rows with any null value\n",
    "features_pd = features_pd.dropna()\n",
    "label_pd = label_pd.loc[features_pd.index] \n",
    "\n",
    "# Remove 'thing_id' and 'date' from features\n",
    "features_pd = features_pd.drop(['thing_id', 'date_insertion','speed','total_km','battery_current_change','daily_avg_voltage'], axis=1)\n",
    "\n",
    "print(features_pd.head())\n",
    "\n",
    "\n",
    "# Convert pandas DataFrame to NumPy array\n",
    "features_array = features_pd.values\n",
    "label_array = label_pd.values\n",
    "\n",
    "# Convert labels to one-hot encoded format\n",
    "label_array = to_categorical(label_array, num_classes=3)\n",
    "\n",
    "# Scale features to range [0, 1]\n",
    "scaler = MinMaxScaler(feature_range=(0, 1))\n",
    "scaled_features = scaler.fit_transform(features_array)\n",
    "\n",
    "\n",
    "\n",
    "# Reshape to 3D array (batch_size, timesteps, input_dim)\n",
    "scaled_features = np.reshape(scaled_features, (scaled_features.shape[0], 1, scaled_features.shape[1]))"
   ]
  },
  {
   "cell_type": "code",
   "execution_count": 5,
   "metadata": {},
   "outputs": [
    {
     "name": "stderr",
     "output_type": "stream",
     "text": [
      "/Users/mac/Library/Python/3.9/lib/python/site-packages/keras/src/layers/rnn/rnn.py:204: UserWarning: Do not pass an `input_shape`/`input_dim` argument to a layer. When using Sequential models, prefer using an `Input(shape)` object as the first layer in the model instead.\n",
      "  super().__init__(**kwargs)\n"
     ]
    }
   ],
   "source": [
    "import tensorflow as tf\n",
    "from tensorflow.keras.models import Sequential\n",
    "from tensorflow.keras.layers import LSTM, Dense\n",
    "\n",
    "# Define the LSTM model\n",
    "model = Sequential()\n",
    "model.add(LSTM(50, input_shape=(scaled_features.shape[1], scaled_features.shape[2])))\n",
    "model.add(Dense(3,activation='softmax'))"
   ]
  },
  {
   "cell_type": "code",
   "execution_count": 6,
   "metadata": {},
   "outputs": [],
   "source": [
    "# from tensorflow.keras.optimizers import Adam\n",
    "\n",
    "model.compile(loss='categorical_crossentropy', optimizer='adam')# Fit the model\n"
   ]
  },
  {
   "cell_type": "code",
   "execution_count": 7,
   "metadata": {},
   "outputs": [
    {
     "name": "stdout",
     "output_type": "stream",
     "text": [
      "Epoch 1/50\n",
      "\u001b[1m9/9\u001b[0m \u001b[32m━━━━━━━━━━━━━━━━━━━━\u001b[0m\u001b[37m\u001b[0m \u001b[1m1s\u001b[0m 13ms/step - loss: 1.1116 - val_loss: 1.0683\n",
      "Epoch 2/50\n",
      "\u001b[1m9/9\u001b[0m \u001b[32m━━━━━━━━━━━━━━━━━━━━\u001b[0m\u001b[37m\u001b[0m \u001b[1m0s\u001b[0m 2ms/step - loss: 1.0605 - val_loss: 1.0198\n",
      "Epoch 3/50\n",
      "\u001b[1m9/9\u001b[0m \u001b[32m━━━━━━━━━━━━━━━━━━━━\u001b[0m\u001b[37m\u001b[0m \u001b[1m0s\u001b[0m 2ms/step - loss: 1.0193 - val_loss: 0.9797\n",
      "Epoch 4/50\n",
      "\u001b[1m9/9\u001b[0m \u001b[32m━━━━━━━━━━━━━━━━━━━━\u001b[0m\u001b[37m\u001b[0m \u001b[1m0s\u001b[0m 2ms/step - loss: 0.9864 - val_loss: 0.9473\n",
      "Epoch 5/50\n",
      "\u001b[1m9/9\u001b[0m \u001b[32m━━━━━━━━━━━━━━━━━━━━\u001b[0m\u001b[37m\u001b[0m \u001b[1m0s\u001b[0m 2ms/step - loss: 0.9610 - val_loss: 0.9221\n",
      "Epoch 6/50\n",
      "\u001b[1m9/9\u001b[0m \u001b[32m━━━━━━━━━━━━━━━━━━━━\u001b[0m\u001b[37m\u001b[0m \u001b[1m0s\u001b[0m 2ms/step - loss: 0.9420 - val_loss: 0.9021\n",
      "Epoch 7/50\n",
      "\u001b[1m9/9\u001b[0m \u001b[32m━━━━━━━━━━━━━━━━━━━━\u001b[0m\u001b[37m\u001b[0m \u001b[1m0s\u001b[0m 2ms/step - loss: 0.9262 - val_loss: 0.8840\n",
      "Epoch 8/50\n",
      "\u001b[1m9/9\u001b[0m \u001b[32m━━━━━━━━━━━━━━━━━━━━\u001b[0m\u001b[37m\u001b[0m \u001b[1m0s\u001b[0m 2ms/step - loss: 0.9105 - val_loss: 0.8657\n",
      "Epoch 9/50\n",
      "\u001b[1m9/9\u001b[0m \u001b[32m━━━━━━━━━━━━━━━━━━━━\u001b[0m\u001b[37m\u001b[0m \u001b[1m0s\u001b[0m 2ms/step - loss: 0.8931 - val_loss: 0.8462\n",
      "Epoch 10/50\n",
      "\u001b[1m9/9\u001b[0m \u001b[32m━━━━━━━━━━━━━━━━━━━━\u001b[0m\u001b[37m\u001b[0m \u001b[1m0s\u001b[0m 2ms/step - loss: 0.8739 - val_loss: 0.8252\n",
      "Epoch 11/50\n",
      "\u001b[1m9/9\u001b[0m \u001b[32m━━━━━━━━━━━━━━━━━━━━\u001b[0m\u001b[37m\u001b[0m \u001b[1m0s\u001b[0m 2ms/step - loss: 0.8531 - val_loss: 0.8024\n",
      "Epoch 12/50\n",
      "\u001b[1m9/9\u001b[0m \u001b[32m━━━━━━━━━━━━━━━━━━━━\u001b[0m\u001b[37m\u001b[0m \u001b[1m0s\u001b[0m 2ms/step - loss: 0.8303 - val_loss: 0.7776\n",
      "Epoch 13/50\n",
      "\u001b[1m9/9\u001b[0m \u001b[32m━━━━━━━━━━━━━━━━━━━━\u001b[0m\u001b[37m\u001b[0m \u001b[1m0s\u001b[0m 2ms/step - loss: 0.8056 - val_loss: 0.7508\n",
      "Epoch 14/50\n",
      "\u001b[1m9/9\u001b[0m \u001b[32m━━━━━━━━━━━━━━━━━━━━\u001b[0m\u001b[37m\u001b[0m \u001b[1m0s\u001b[0m 2ms/step - loss: 0.7789 - val_loss: 0.7223\n",
      "Epoch 15/50\n",
      "\u001b[1m9/9\u001b[0m \u001b[32m━━━━━━━━━━━━━━━━━━━━\u001b[0m\u001b[37m\u001b[0m \u001b[1m0s\u001b[0m 2ms/step - loss: 0.7503 - val_loss: 0.6923\n",
      "Epoch 16/50\n",
      "\u001b[1m9/9\u001b[0m \u001b[32m━━━━━━━━━━━━━━━━━━━━\u001b[0m\u001b[37m\u001b[0m \u001b[1m0s\u001b[0m 2ms/step - loss: 0.7203 - val_loss: 0.6615\n",
      "Epoch 17/50\n",
      "\u001b[1m9/9\u001b[0m \u001b[32m━━━━━━━━━━━━━━━━━━━━\u001b[0m\u001b[37m\u001b[0m \u001b[1m0s\u001b[0m 2ms/step - loss: 0.6892 - val_loss: 0.6304\n",
      "Epoch 18/50\n",
      "\u001b[1m9/9\u001b[0m \u001b[32m━━━━━━━━━━━━━━━━━━━━\u001b[0m\u001b[37m\u001b[0m \u001b[1m0s\u001b[0m 2ms/step - loss: 0.6576 - val_loss: 0.5995\n",
      "Epoch 19/50\n",
      "\u001b[1m9/9\u001b[0m \u001b[32m━━━━━━━━━━━━━━━━━━━━\u001b[0m\u001b[37m\u001b[0m \u001b[1m0s\u001b[0m 2ms/step - loss: 0.6262 - val_loss: 0.5693\n",
      "Epoch 20/50\n",
      "\u001b[1m9/9\u001b[0m \u001b[32m━━━━━━━━━━━━━━━━━━━━\u001b[0m\u001b[37m\u001b[0m \u001b[1m0s\u001b[0m 2ms/step - loss: 0.5952 - val_loss: 0.5402\n",
      "Epoch 21/50\n",
      "\u001b[1m9/9\u001b[0m \u001b[32m━━━━━━━━━━━━━━━━━━━━\u001b[0m\u001b[37m\u001b[0m \u001b[1m0s\u001b[0m 2ms/step - loss: 0.5652 - val_loss: 0.5125\n",
      "Epoch 22/50\n",
      "\u001b[1m9/9\u001b[0m \u001b[32m━━━━━━━━━━━━━━━━━━━━\u001b[0m\u001b[37m\u001b[0m \u001b[1m0s\u001b[0m 3ms/step - loss: 0.5366 - val_loss: 0.4864\n",
      "Epoch 23/50\n",
      "\u001b[1m9/9\u001b[0m \u001b[32m━━━━━━━━━━━━━━━━━━━━\u001b[0m\u001b[37m\u001b[0m \u001b[1m0s\u001b[0m 2ms/step - loss: 0.5094 - val_loss: 0.4619\n",
      "Epoch 24/50\n",
      "\u001b[1m9/9\u001b[0m \u001b[32m━━━━━━━━━━━━━━━━━━━━\u001b[0m\u001b[37m\u001b[0m \u001b[1m0s\u001b[0m 2ms/step - loss: 0.4840 - val_loss: 0.4393\n",
      "Epoch 25/50\n",
      "\u001b[1m9/9\u001b[0m \u001b[32m━━━━━━━━━━━━━━━━━━━━\u001b[0m\u001b[37m\u001b[0m \u001b[1m0s\u001b[0m 2ms/step - loss: 0.4603 - val_loss: 0.4183\n",
      "Epoch 26/50\n",
      "\u001b[1m9/9\u001b[0m \u001b[32m━━━━━━━━━━━━━━━━━━━━\u001b[0m\u001b[37m\u001b[0m \u001b[1m0s\u001b[0m 2ms/step - loss: 0.4383 - val_loss: 0.3989\n",
      "Epoch 27/50\n",
      "\u001b[1m9/9\u001b[0m \u001b[32m━━━━━━━━━━━━━━━━━━━━\u001b[0m\u001b[37m\u001b[0m \u001b[1m0s\u001b[0m 2ms/step - loss: 0.4179 - val_loss: 0.3811\n",
      "Epoch 28/50\n",
      "\u001b[1m9/9\u001b[0m \u001b[32m━━━━━━━━━━━━━━━━━━━━\u001b[0m\u001b[37m\u001b[0m \u001b[1m0s\u001b[0m 2ms/step - loss: 0.3992 - val_loss: 0.3647\n",
      "Epoch 29/50\n",
      "\u001b[1m9/9\u001b[0m \u001b[32m━━━━━━━━━━━━━━━━━━━━\u001b[0m\u001b[37m\u001b[0m \u001b[1m0s\u001b[0m 2ms/step - loss: 0.3819 - val_loss: 0.3496\n",
      "Epoch 30/50\n",
      "\u001b[1m9/9\u001b[0m \u001b[32m━━━━━━━━━━━━━━━━━━━━\u001b[0m\u001b[37m\u001b[0m \u001b[1m0s\u001b[0m 2ms/step - loss: 0.3659 - val_loss: 0.3356\n",
      "Epoch 31/50\n",
      "\u001b[1m9/9\u001b[0m \u001b[32m━━━━━━━━━━━━━━━━━━━━\u001b[0m\u001b[37m\u001b[0m \u001b[1m0s\u001b[0m 2ms/step - loss: 0.3511 - val_loss: 0.3226\n",
      "Epoch 32/50\n",
      "\u001b[1m9/9\u001b[0m \u001b[32m━━━━━━━━━━━━━━━━━━━━\u001b[0m\u001b[37m\u001b[0m \u001b[1m0s\u001b[0m 2ms/step - loss: 0.3373 - val_loss: 0.3106\n",
      "Epoch 33/50\n",
      "\u001b[1m9/9\u001b[0m \u001b[32m━━━━━━━━━━━━━━━━━━━━\u001b[0m\u001b[37m\u001b[0m \u001b[1m0s\u001b[0m 2ms/step - loss: 0.3245 - val_loss: 0.2994\n",
      "Epoch 34/50\n",
      "\u001b[1m9/9\u001b[0m \u001b[32m━━━━━━━━━━━━━━━━━━━━\u001b[0m\u001b[37m\u001b[0m \u001b[1m0s\u001b[0m 2ms/step - loss: 0.3126 - val_loss: 0.2889\n",
      "Epoch 35/50\n",
      "\u001b[1m9/9\u001b[0m \u001b[32m━━━━━━━━━━━━━━━━━━━━\u001b[0m\u001b[37m\u001b[0m \u001b[1m0s\u001b[0m 2ms/step - loss: 0.3014 - val_loss: 0.2790\n",
      "Epoch 36/50\n",
      "\u001b[1m9/9\u001b[0m \u001b[32m━━━━━━━━━━━━━━━━━━━━\u001b[0m\u001b[37m\u001b[0m \u001b[1m0s\u001b[0m 2ms/step - loss: 0.2909 - val_loss: 0.2698\n",
      "Epoch 37/50\n",
      "\u001b[1m9/9\u001b[0m \u001b[32m━━━━━━━━━━━━━━━━━━━━\u001b[0m\u001b[37m\u001b[0m \u001b[1m0s\u001b[0m 2ms/step - loss: 0.2810 - val_loss: 0.2610\n",
      "Epoch 38/50\n",
      "\u001b[1m9/9\u001b[0m \u001b[32m━━━━━━━━━━━━━━━━━━━━\u001b[0m\u001b[37m\u001b[0m \u001b[1m0s\u001b[0m 2ms/step - loss: 0.2717 - val_loss: 0.2528\n",
      "Epoch 39/50\n",
      "\u001b[1m9/9\u001b[0m \u001b[32m━━━━━━━━━━━━━━━━━━━━\u001b[0m\u001b[37m\u001b[0m \u001b[1m0s\u001b[0m 2ms/step - loss: 0.2628 - val_loss: 0.2449\n",
      "Epoch 40/50\n",
      "\u001b[1m9/9\u001b[0m \u001b[32m━━━━━━━━━━━━━━━━━━━━\u001b[0m\u001b[37m\u001b[0m \u001b[1m0s\u001b[0m 2ms/step - loss: 0.2543 - val_loss: 0.2374\n",
      "Epoch 41/50\n",
      "\u001b[1m9/9\u001b[0m \u001b[32m━━━━━━━━━━━━━━━━━━━━\u001b[0m\u001b[37m\u001b[0m \u001b[1m0s\u001b[0m 5ms/step - loss: 0.2463 - val_loss: 0.2303\n",
      "Epoch 42/50\n",
      "\u001b[1m9/9\u001b[0m \u001b[32m━━━━━━━━━━━━━━━━━━━━\u001b[0m\u001b[37m\u001b[0m \u001b[1m0s\u001b[0m 2ms/step - loss: 0.2386 - val_loss: 0.2235\n",
      "Epoch 43/50\n",
      "\u001b[1m9/9\u001b[0m \u001b[32m━━━━━━━━━━━━━━━━━━━━\u001b[0m\u001b[37m\u001b[0m \u001b[1m0s\u001b[0m 2ms/step - loss: 0.2312 - val_loss: 0.2169\n",
      "Epoch 44/50\n",
      "\u001b[1m9/9\u001b[0m \u001b[32m━━━━━━━━━━━━━━━━━━━━\u001b[0m\u001b[37m\u001b[0m \u001b[1m0s\u001b[0m 2ms/step - loss: 0.2242 - val_loss: 0.2106\n",
      "Epoch 45/50\n",
      "\u001b[1m9/9\u001b[0m \u001b[32m━━━━━━━━━━━━━━━━━━━━\u001b[0m\u001b[37m\u001b[0m \u001b[1m0s\u001b[0m 2ms/step - loss: 0.2174 - val_loss: 0.2046\n",
      "Epoch 46/50\n",
      "\u001b[1m9/9\u001b[0m \u001b[32m━━━━━━━━━━━━━━━━━━━━\u001b[0m\u001b[37m\u001b[0m \u001b[1m0s\u001b[0m 2ms/step - loss: 0.2109 - val_loss: 0.1987\n",
      "Epoch 47/50\n",
      "\u001b[1m9/9\u001b[0m \u001b[32m━━━━━━━━━━━━━━━━━━━━\u001b[0m\u001b[37m\u001b[0m \u001b[1m0s\u001b[0m 2ms/step - loss: 0.2046 - val_loss: 0.1931\n",
      "Epoch 48/50\n",
      "\u001b[1m9/9\u001b[0m \u001b[32m━━━━━━━━━━━━━━━━━━━━\u001b[0m\u001b[37m\u001b[0m \u001b[1m0s\u001b[0m 2ms/step - loss: 0.1985 - val_loss: 0.1877\n",
      "Epoch 49/50\n",
      "\u001b[1m9/9\u001b[0m \u001b[32m━━━━━━━━━━━━━━━━━━━━\u001b[0m\u001b[37m\u001b[0m \u001b[1m0s\u001b[0m 2ms/step - loss: 0.1927 - val_loss: 0.1824\n",
      "Epoch 50/50\n",
      "\u001b[1m9/9\u001b[0m \u001b[32m━━━━━━━━━━━━━━━━━━━━\u001b[0m\u001b[37m\u001b[0m \u001b[1m0s\u001b[0m 2ms/step - loss: 0.1870 - val_loss: 0.1774\n"
     ]
    },
    {
     "name": "stderr",
     "output_type": "stream",
     "text": [
      "WARNING:absl:You are saving your model as an HDF5 file via `model.save()` or `keras.saving.save_model(model)`. This file format is considered legacy. We recommend using instead the native Keras format, e.g. `model.save('my_model.keras')` or `keras.saving.save_model(model, 'my_model.keras')`. \n"
     ]
    },
    {
     "data": {
      "text/plain": [
       "['my_scaler.pkl']"
      ]
     },
     "execution_count": 7,
     "metadata": {},
     "output_type": "execute_result"
    }
   ],
   "source": [
    "from sklearn.model_selection import train_test_split\n",
    "\n",
    "# Split the data into a training set and a test set\n",
    "\n",
    "# Split the data into a training set and a test set\n",
    "features_train, features_test, label_train, label_test = train_test_split(scaled_features, label_array, test_size=0.2, random_state=42)\n",
    "\n",
    "# Train the model on the training set\n",
    "history = model.fit(features_train, label_train, epochs=50, batch_size=72, validation_split=0.2, shuffle=False)\n",
    "\n",
    "# Assuming 'model' is your trained Keras model\n",
    "model.save('my_model.h5')\n",
    "\n",
    "import joblib\n",
    "\n",
    "# Assuming 'scaler' is your fitted MinMaxScaler\n",
    "joblib.dump(scaler, 'my_scaler.pkl')"
   ]
  },
  {
   "cell_type": "code",
   "execution_count": 8,
   "metadata": {},
   "outputs": [
    {
     "name": "stdout",
     "output_type": "stream",
     "text": [
      "dict_keys(['loss', 'val_loss'])\n"
     ]
    },
    {
     "data": {
      "image/png": "[encoded data removed]",
      "text/plain": [
       "<Figure size 640x480 with 1 Axes>"
      ]
     },
     "metadata": {},
     "output_type": "display_data"
    }
   ],
   "source": [
    "# Plot history\n",
    "from matplotlib import pyplot\n",
    "# Check the keys in the history object\n",
    "print(history.history.keys())\n",
    "\n",
    "pyplot.plot(history.history['loss'], label='train')\n",
    "pyplot.plot(history.history['val_loss'], label='test')\n",
    "pyplot.legend()\n",
    "pyplot.show()"
   ]
  },
  {
   "cell_type": "code",
   "execution_count": 9,
   "metadata": {},
   "outputs": [
    {
     "name": "stdout",
     "output_type": "stream",
     "text": [
      "\u001b[1m7/7\u001b[0m \u001b[32m━━━━━━━━━━━━━━━━━━━━\u001b[0m\u001b[37m\u001b[0m \u001b[1m0s\u001b[0m 9ms/step\n"
     ]
    }
   ],
   "source": [
    "# Make predictions on the test set\n",
    "predictions = model.predict(features_test)\n",
    "\n",
    "# Convert predicted probabilities to class labels\n",
    "predicted_classes = np.argmax(predictions, axis=1)\n",
    "\n"
   ]
  },
  {
   "cell_type": "code",
   "execution_count": 10,
   "metadata": {},
   "outputs": [
    {
     "name": "stdout",
     "output_type": "stream",
     "text": [
      "\u001b[1m7/7\u001b[0m \u001b[32m━━━━━━━━━━━━━━━━━━━━\u001b[0m\u001b[37m\u001b[0m \u001b[1m0s\u001b[0m 524us/step\n"
     ]
    },
    {
     "data": {
      "image/png": "[encoded data removed]",
      "text/plain": [
       "<Figure size 1000x700 with 2 Axes>"
      ]
     },
     "metadata": {},
     "output_type": "display_data"
    },
    {
     "name": "stdout",
     "output_type": "stream",
     "text": [
      "Recall: 0.97\n"
     ]
    }
   ],
   "source": [
    "from sklearn.metrics import confusion_matrix\n",
    "import seaborn as sns\n",
    "import matplotlib.pyplot as plt\n",
    "\n",
    "# Make predictions on the test set\n",
    "predictions = model.predict(features_test)\n",
    "\n",
    "# Convert predicted probabilities to class labels\n",
    "predicted_classes = np.argmax(predictions, axis=1)\n",
    "\n",
    "# Convert true labels to class labels\n",
    "true_classes = np.argmax(label_test, axis=1)\n",
    "\n",
    "# Calculate the confusion matrix\n",
    "cm = confusion_matrix(true_classes, predicted_classes)\n",
    "\n",
    "# Plot the confusion matrix\n",
    "plt.figure(figsize=(10, 7))\n",
    "sns.heatmap(cm, annot=True, fmt='d')\n",
    "plt.xlabel('Predicted')\n",
    "plt.ylabel('True')\n",
    "plt.show()\n",
    "\n",
    "from sklearn.metrics import recall_score\n",
    "\n",
    "# Assuming y_test are the true labels and y_pred are the predicted labels\n",
    "recall = recall_score(true_classes, predicted_classes, average='micro')  # for binary classification\n",
    "print(f\"Recall: {recall}\")"
   ]
  },
  {
   "cell_type": "code",
   "execution_count": 18,
   "metadata": {},
   "outputs": [
    {
     "name": "stderr",
     "output_type": "stream",
     "text": [
      "WARNING:absl:Compiled the loaded model, but the compiled metrics have yet to be built. `model.compile_metrics` will be empty until you train or evaluate the model.\n"
     ]
    },
    {
     "name": "stdout",
     "output_type": "stream",
     "text": [
      "\u001b[1m1/1\u001b[0m \u001b[32m━━━━━━━━━━━━━━━━━━━━\u001b[0m\u001b[37m\u001b[0m \u001b[1m0s\u001b[0m 67ms/step\n",
      "Predicted class: 2\n"
     ]
    },
    {
     "name": "stderr",
     "output_type": "stream",
     "text": [
      "/Users/mac/Library/Python/3.9/lib/python/site-packages/sklearn/base.py:486: UserWarning: X has feature names, but MinMaxScaler was fitted without feature names\n",
      "  warnings.warn(\n"
     ]
    }
   ],
   "source": [
    "import pandas as pd\n",
    "import numpy as np\n",
    "from keras.models import load_model\n",
    "from sklearn.preprocessing import MinMaxScaler\n",
    "import joblib\n",
    "\n",
    "# Load your trained model\n",
    "model = load_model('/Users/mac/prediction/my_model.h5')\n",
    "\n",
    "# Load your fitted scaler\n",
    "scaler = joblib.load('/Users/mac/prediction/my_scaler.pkl')\n",
    "\n",
    "# Create a new test event\n",
    "new_event = pd.DataFrame({\n",
    "    'engine_status': [1],  # new engine_status\n",
    "    'power_supply_voltage': [22.18],  # new power_supply_voltage\n",
    "    'oil_value': [3.0],  # new oil_value\n",
    "    'fuel_liters': [4.6],  # new fuel_liters\n",
    "    'speed_avg': [27.0],  # new speed_avg\n",
    "    'oil_value_std': [1.767767],  # new oil_value_std\n",
    "    'speed_change': [1.0],  # new speed_change\n",
    "    'fuel_change': [-3.6],  # new fuel_change\n",
    "    'car_age': [0],  # new car_age\n",
    "    'last_oil_change': [3]  # new last_oil_change\n",
    "}, index=[0])\n",
    "\n",
    "# Scale the new event using the saved scaler\n",
    "new_event_scaled = scaler.transform(new_event)\n",
    "\n",
    "# Reshape to 3D array (samples, timesteps, features)\n",
    "new_event_array = new_event_scaled.reshape((1, 1, new_event_scaled.shape[1]))\n",
    "\n",
    "# Use the Keras model to make a prediction\n",
    "prediction = model.predict(new_event_array)\n",
    "\n",
    "# Get the predicted class\n",
    "predicted_class = np.argmax(prediction)\n",
    "\n",
    "print(f\"Predicted class: {predicted_class}\")\n",
    "\n"
   ]
  }
 ],
 "metadata": {
  "kernelspec": {
   "display_name": "Python 3",
   "language": "python",
   "name": "python3"
  },
  "language_info": {
   "codemirror_mode": {
    "name": "ipython",
    "version": 3
   },
   "file_extension": ".py",
   "mimetype": "text/x-python",
   "name": "python",
   "nbconvert_exporter": "python",
   "pygments_lexer": "ipython3",
   "version": "3.9.18"
  }
 },
 "nbformat": 4,
 "nbformat_minor": 2
}

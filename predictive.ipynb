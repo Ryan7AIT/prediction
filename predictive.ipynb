{
 "cells": [
  {
   "cell_type": "code",
   "execution_count": 14,
   "metadata": {},
   "outputs": [],
   "source": [
    "from pyspark.sql import SparkSession\n",
    "from pyspark.sql.functions import col, udf, to_date, dayofweek, hour, lag, mean, lit, when,avg\n",
    "from pyspark.sql.window import Window\n",
    "import json\n",
    "from pyspark.sql.functions import rand, isnan, when\n",
    "from pyspark.sql.types import FloatType\n",
    "from pyspark.sql.functions import rand, round\n",
    "\n",
    "from sklearn.preprocessing import MinMaxScaler\n",
    "from keras.models import Sequential\n",
    "from keras.layers import LSTM, Dense\n",
    "\n",
    "from sklearn.preprocessing import MinMaxScaler\n",
    "import numpy as np\n",
    "import datetime\n",
    "from tensorflow.keras.utils import to_categorical\n",
    "\n",
    "# Initialize a SparkSession\n",
    "spark = SparkSession.builder.appName(\"PredictiveMaintenance\").getOrCreate()\n",
    "\n",
    "# Load your dataset into a PySpark DataFrame\n",
    "df = spark.read.csv('/Users/mac/Downloads/predictive.csv', header=True, inferSchema=True)\n",
    "\n",
    "# Assuming 'date_insertion' is the correct timestamp column based on your dataset schema\n",
    "# Adjust the following transformations accordingly:\n",
    "\n",
    "# Extract JSON fields function\n",
    "def extract_from_json(column, key):\n",
    "    try:\n",
    "        json_data = json.loads(column.replace(\"'\", \"\\\"\"))\n",
    "        return json_data.get(key, None)\n",
    "    except:\n",
    "        return None\n",
    "\n",
    "# Registering the UDF\n",
    "extract_from_json_udf = udf(extract_from_json)\n",
    "\n",
    "# Step 1: Extracting 'oil_value' and 'fuel_liters'\n",
    "df = df.withColumn(\"oil_value\", extract_from_json_udf(col(\"details\"), lit(\"oil_value\")))\n",
    "df = df.withColumn(\"fuel_liters\", extract_from_json_udf(col(\"details\"), lit(\"fuel_liters\")))\n",
    "\n",
    "# Step 2: Creating time-based features\n",
    "df = df.withColumn(\"date_insertion\", to_date(col(\"date_insertion\")))\n",
    "df = df.withColumn(\"day_of_week\", dayofweek(col(\"date_insertion\")))\n",
    "df = df.withColumn(\"hour_of_day\", hour(col(\"date_insertion\")))\n",
    "\n",
    "\n",
    "\n",
    "# Step 4: Aggregate readings on a daily basis\n",
    "daily_avg_df = df.groupBy(\"thing_id\", \"date_insertion\").agg(mean(\"power_supply_voltage\").alias(\"daily_avg_voltage\"))\n",
    "df = df.join(daily_avg_df, [\"thing_id\", \"date_insertion\"], \"left\")\n",
    "\n",
    "# Step 5: Create binary indicator for 'engine_status'\n",
    "df = df.withColumn(\"engine_alert\", when(col(\"engine_status\") == \"Abnormal\", 1).otherwise(0))\n",
    "\n",
    "# Define a UDF to generate random values within a range\n",
    "def random_value(min_value, max_value):\n",
    "    return (rand() * (max_value - min_value) + min_value).cast(FloatType())\n",
    "\n",
    "# random_value_udf = udf(random_value, FloatType())\n",
    "\n",
    "# Set min and max values for 'oil_value' and 'fuel_liters'\n",
    "oil_value_min, oil_value_max = 0, 4\n",
    "fuel_liters_min, fuel_liters_max = 0, 60\n",
    "\n",
    "# Replace null values with random numbers\n",
    "# Replace null values with random numbers and round to 1 decimal place\n",
    "df = df.withColumn(\"oil_value\", when(df['oil_value'].isNull(), round((rand() * (oil_value_max - oil_value_min) + oil_value_min), 1)).otherwise(df['oil_value']))\n",
    "df = df.withColumn(\"fuel_liters\", when(df['fuel_liters'].isNull(), round((rand() * (fuel_liters_max - fuel_liters_min) + fuel_liters_min), 1)).otherwise(df['fuel_liters']))\n",
    "\n",
    "# Step 6: Generate interaction features\n",
    "# df = df.withColumn(\"voltage_current_interaction\", col(\"power_supply_voltage\") * col(\"battery_current\"))\n",
    "\n",
    "# Step 3: Calculating rate of change for 'battery_current'\n",
    "windowSpec = Window.partitionBy(\"thing_id\").orderBy(\"date_insertion\")\n",
    "df = df.withColumn(\"battery_current_change\", col(\"power_supply_voltage\") - lag(\"power_supply_voltage\", 1).over(windowSpec))\n"
   ]
  },
  {
   "cell_type": "code",
   "execution_count": 15,
   "metadata": {},
   "outputs": [
    {
     "name": "stderr",
     "output_type": "stream",
     "text": [
      "24/04/18 23:48:38 WARN WindowExec: No Partition Defined for Window operation! Moving all data to a single partition, this can cause serious performance degradation.\n",
      "24/04/18 23:48:38 WARN WindowExec: No Partition Defined for Window operation! Moving all data to a single partition, this can cause serious performance degradation.\n",
      "24/04/18 23:48:39 WARN WindowExec: No Partition Defined for Window operation! Moving all data to a single partition, this can cause serious performance degradation.\n",
      "24/04/18 23:48:39 WARN WindowExec: No Partition Defined for Window operation! Moving all data to a single partition, this can cause serious performance degradation.\n",
      "24/04/18 23:48:39 WARN WindowExec: No Partition Defined for Window operation! Moving all data to a single partition, this can cause serious performance degradation.\n",
      "24/04/18 23:48:39 WARN WindowExec: No Partition Defined for Window operation! Moving all data to a single partition, this can cause serious performance degradation.\n",
      "24/04/18 23:48:39 WARN WindowExec: No Partition Defined for Window operation! Moving all data to a single partition, this can cause serious performance degradation.\n",
      "24/04/18 23:48:39 WARN WindowExec: No Partition Defined for Window operation! Moving all data to a single partition, this can cause serious performance degradation.\n"
     ]
    },
    {
     "name": "stdout",
     "output_type": "stream",
     "text": [
      "+--------+--------------+-----+---------+-------------+--------------------+---------+-----------+----------------------+-----------------+-------------------+\n",
      "|thing_id|date_insertion|speed| total_km|engine_status|power_supply_voltage|oil_value|fuel_liters|battery_current_change|daily_avg_voltage|        fuel_change|\n",
      "+--------+--------------+-----+---------+-------------+--------------------+---------+-----------+----------------------+-----------------+-------------------+\n",
      "|     629|    2024-02-28|    0|334365360|            1|               22.25|      2.2|       59.5|                  NULL|          21.3035|               53.6|\n",
      "|     629|    2024-02-28|    1|334365360|            1|               22.18|      2.1|       13.8|  -0.07000000000000028|          21.3035|              -45.7|\n",
      "|     629|    2024-02-28|    1|334365364|            1|                22.2|      1.0|        2.2|  0.019999999999999574|          21.3035|-11.600000000000001|\n",
      "|     629|    2024-02-28|    0|334365367|            1|               22.32|      1.3|       44.2|     0.120000000000001|          21.3035|               42.0|\n",
      "|     629|    2024-02-28|    0|334365368|            1|               22.22|      3.2|       24.3|  -0.10000000000000142|          21.3035|-19.900000000000002|\n",
      "|     629|    2024-02-28|    0|334365368|            0|                22.4|      2.5|        7.4|   0.17999999999999972|          21.3035|              -16.9|\n",
      "|     629|    2024-02-28|    0|334365368|            0|                22.3|      4.0|       15.4|  -0.09999999999999787|          21.3035|                8.0|\n",
      "|     629|    2024-02-28|    0|334365368|            0|                21.3|      0.2|       13.0|                  -1.0|          21.3035|-28.700000000000003|\n",
      "|     629|    2024-02-28|    0|334365368|            0|               21.18|      1.0|       26.2|    -0.120000000000001|          21.3035|               22.3|\n",
      "|     629|    2024-02-28|    0|334365368|            0|               21.11|      1.0|       26.1|  -0.07000000000000028|          21.3035|              -27.6|\n",
      "|     629|    2024-02-28|    0|334365368|            0|               21.04|      2.9|       48.0|  -0.07000000000000028|          21.3035|               19.0|\n",
      "|     629|    2024-02-28|    0|334365368|            0|               20.97|      3.4|       54.1|  -0.07000000000000028|          21.3035|-3.3999999999999986|\n",
      "|     629|    2024-02-28|    0|334365368|            0|               20.71|      2.1|       25.9|    -0.259999999999998|          21.3035|              -33.4|\n",
      "|     629|    2024-02-28|    0|334365368|            0|               20.67|      0.5|       26.5|  -0.03999999999999915|          21.3035|              -31.1|\n",
      "|     629|    2024-02-28|    0|334365368|            0|               20.63|      1.4|       29.5|   -0.0400000000000027|          21.3035| 2.1000000000000014|\n",
      "|     629|    2024-02-28|    0|334365368|            0|               20.59|      0.6|       18.9|  -0.03999999999999915|          21.3035|  7.399999999999999|\n",
      "|     629|    2024-02-28|    0|334365368|            0|               20.55|      0.8|       33.4|  -0.03999999999999915|          21.3035| 19.799999999999997|\n",
      "|     629|    2024-02-28|    0|334365368|            0|               20.52|      3.4|       14.4|  -0.03000000000000...|          21.3035|-31.700000000000003|\n",
      "|     629|    2024-02-28|    0|334365368|            0|               20.48|      0.1|       34.5|  -0.03999999999999915|          21.3035| 10.399999999999999|\n",
      "|     629|    2024-02-28|    0|334365368|            0|               20.45|      2.3|       31.8|  -0.03000000000000...|          21.3035| 11.600000000000001|\n",
      "+--------+--------------+-----+---------+-------------+--------------------+---------+-----------+----------------------+-----------------+-------------------+\n",
      "only showing top 20 rows\n",
      "\n"
     ]
    }
   ],
   "source": [
    "df = df.select(\"thing_id\", \"date_insertion\", \"speed\", \"total_km\", \"engine_status\", \"power_supply_voltage\" ,\"oil_value\", \"fuel_liters\",  \"battery_current_change\", \"daily_avg_voltage\")\n",
    "\n",
    "\n",
    "from pyspark.sql import Window\n",
    "from pyspark.sql.functions import lag, avg, stddev\n",
    "\n",
    "# Define a window\n",
    "window = Window.orderBy('date_insertion').rowsBetween(-9, 0)  # assuming 'date_insertion' is your time column\n",
    "\n",
    "# Calculate rolling averages and standard deviations\n",
    "# df = df.withColumn('speed_avg', avg(df['speed']).over(window))\n",
    "# df = df.withColumn('oil_value_std', stddev(df['oil_value']).over(window))\n",
    "\n",
    "# Calculate changes between consecutive readings\n",
    "# df = df.withColumn('speed_change', df['speed'] - lag(df['speed']).over(Window.orderBy('date_insertion')))\n",
    "df = df.withColumn('fuel_change', df['fuel_liters'] - lag(df['fuel_liters']).over(Window.orderBy('date_insertion')))\n",
    "\n",
    "# Step 7: Calculate rolling average\n",
    "\n",
    "\n",
    "# Define a Window specification\n",
    "# windowSpec = Window.orderBy('date_insertion').rowsBetween(-4, 0)  # 5 rows including current row\n",
    "\n",
    "# Calculate rolling average\n",
    "# df = df.withColumn('oil_quality_rolling_avg', avg(df['oil_value']).over(windowSpec))\n",
    "\n",
    "# Show the first 5 rows of the DataFrame\n",
    "df.show()\n"
   ]
  },
  {
   "cell_type": "code",
   "execution_count": 16,
   "metadata": {},
   "outputs": [
    {
     "name": "stdout",
     "output_type": "stream",
     "text": [
      "+--------+--------------+-----+---------+-------------+--------------------+---------+-----------+----------------------+-----------------+-------------------+-------+---------------+-------------+\n",
      "|thing_id|date_insertion|speed| total_km|engine_status|power_supply_voltage|oil_value|fuel_liters|battery_current_change|daily_avg_voltage|        fuel_change|car_age|last_oil_change|       status|\n",
      "+--------+--------------+-----+---------+-------------+--------------------+---------+-----------+----------------------+-----------------+-------------------+-------+---------------+-------------+\n",
      "|     629|    2024-02-28|    0|334365360|            1|               22.25|      2.2|       59.5|                  NULL|          21.3035|               53.6|    old|            old|         fail|\n",
      "|     629|    2024-02-28|    1|334365360|            1|               22.18|      2.1|       13.8|  -0.07000000000000028|          21.3035|              -45.7|    old|            old|         fail|\n",
      "|     629|    2024-02-28|    1|334365364|            1|                22.2|      1.0|        2.2|  0.019999999999999574|          21.3035|-11.600000000000001|    old|           80km|about to fail|\n",
      "|     629|    2024-02-28|    0|334365367|            1|               22.32|      1.3|       44.2|     0.120000000000001|          21.3035|               42.0|    old|           80km|about to fail|\n",
      "|     629|    2024-02-28|    0|334365368|            1|               22.22|      3.2|       24.3|  -0.10000000000000142|          21.3035|-19.900000000000002|    old|            new|       normal|\n",
      "|     629|    2024-02-28|    0|334365368|            0|                22.4|      2.5|        7.4|   0.17999999999999972|          21.3035|              -16.9|    old|           50km|       normal|\n",
      "|     629|    2024-02-28|    0|334365368|            0|                22.3|      4.0|       15.4|  -0.09999999999999787|          21.3035|                8.0|    old|            old|         fail|\n",
      "|     629|    2024-02-28|    0|334365368|            0|                21.3|      0.2|       13.0|                  -1.0|          21.3035|-28.700000000000003|    new|           80km|       normal|\n",
      "|     629|    2024-02-28|    0|334365368|            0|               21.18|      1.0|       26.2|    -0.120000000000001|          21.3035|               22.3|    new|           50km|       normal|\n",
      "|     629|    2024-02-28|    0|334365368|            0|               21.11|      1.0|       26.1|  -0.07000000000000028|          21.3035|              -27.6|    new|            old|about to fail|\n",
      "|     629|    2024-02-28|    0|334365368|            0|               21.04|      2.9|       48.0|  -0.07000000000000028|          21.3035|               19.0|    new|            old|about to fail|\n",
      "|     629|    2024-02-28|    0|334365368|            0|               20.97|      3.4|       54.1|  -0.07000000000000028|          21.3035|-3.3999999999999986|    old|            new|       normal|\n",
      "|     629|    2024-02-28|    0|334365368|            0|               20.71|      2.1|       25.9|    -0.259999999999998|          21.3035|              -33.4|    new|           50km|       normal|\n",
      "|     629|    2024-02-28|    0|334365368|            0|               20.67|      0.5|       26.5|  -0.03999999999999915|          21.3035|              -31.1|    old|            new|       normal|\n",
      "|     629|    2024-02-28|    0|334365368|            0|               20.63|      1.4|       29.5|   -0.0400000000000027|          21.3035| 2.1000000000000014|    old|            new|       normal|\n",
      "|     629|    2024-02-28|    0|334365368|            0|               20.59|      0.6|       18.9|  -0.03999999999999915|          21.3035|  7.399999999999999|    old|           80km|about to fail|\n",
      "|     629|    2024-02-28|    0|334365368|            0|               20.55|      0.8|       33.4|  -0.03999999999999915|          21.3035| 19.799999999999997|    new|            new|       normal|\n",
      "|     629|    2024-02-28|    0|334365368|            0|               20.52|      3.4|       14.4|  -0.03000000000000...|          21.3035|-31.700000000000003|    old|            new|       normal|\n",
      "|     629|    2024-02-28|    0|334365368|            0|               20.48|      0.1|       34.5|  -0.03999999999999915|          21.3035| 10.399999999999999|    new|            old|about to fail|\n",
      "|     629|    2024-02-28|    0|334365368|            0|               20.45|      2.3|       31.8|  -0.03000000000000...|          21.3035| 11.600000000000001|    new|           80km|       normal|\n",
      "+--------+--------------+-----+---------+-------------+--------------------+---------+-----------+----------------------+-----------------+-------------------+-------+---------------+-------------+\n",
      "only showing top 20 rows\n",
      "\n"
     ]
    },
    {
     "name": "stderr",
     "output_type": "stream",
     "text": [
      "24/04/18 23:48:39 WARN WindowExec: No Partition Defined for Window operation! Moving all data to a single partition, this can cause serious performance degradation.\n",
      "24/04/18 23:48:39 WARN WindowExec: No Partition Defined for Window operation! Moving all data to a single partition, this can cause serious performance degradation.\n",
      "24/04/18 23:48:39 WARN WindowExec: No Partition Defined for Window operation! Moving all data to a single partition, this can cause serious performance degradation.\n",
      "24/04/18 23:48:39 WARN WindowExec: No Partition Defined for Window operation! Moving all data to a single partition, this can cause serious performance degradation.\n",
      "24/04/18 23:48:39 WARN WindowExec: No Partition Defined for Window operation! Moving all data to a single partition, this can cause serious performance degradation.\n",
      "24/04/18 23:48:39 WARN WindowExec: No Partition Defined for Window operation! Moving all data to a single partition, this can cause serious performance degradation.\n",
      "24/04/18 23:48:39 WARN WindowExec: No Partition Defined for Window operation! Moving all data to a single partition, this can cause serious performance degradation.\n",
      "24/04/18 23:48:39 WARN WindowExec: No Partition Defined for Window operation! Moving all data to a single partition, this can cause serious performance degradation.\n"
     ]
    }
   ],
   "source": [
    "# Define thresholds\n",
    "oil_value_fail_threshold = 1\n",
    "oil_value_about_to_fail_threshold = 2\n",
    "\n",
    "df = df.withColumn(\"car_age\", when(rand() < 0.6, \"old\").otherwise(\"new\"))\n",
    "\n",
    "df = df.withColumn(\"last_oil_change\", \n",
    "                   when(rand() < 0.25, \"new\")\n",
    "                   .when((rand() >= 0.25) & (rand() < 0.5), \"50km\")\n",
    "                   .when((rand() >= 0.5) & (rand() < 0.75), \"80km\")\n",
    "                   .otherwise(\"old\"))\n",
    "\n",
    "df = df.withColumn(\"status\", \n",
    "                   when((col(\"car_age\") == \"old\") & (col(\"last_oil_change\") == \"old\"), \"fail\")\n",
    "                   .when((col(\"car_age\") == \"old\") & (col(\"last_oil_change\") == \"80km\"), \"about to fail\")\n",
    "                   .when((col(\"car_age\") == \"old\") & ((col(\"last_oil_change\") == \"new\") | (col(\"last_oil_change\") == \"50km\")), \"normal\")\n",
    "                   .when((col(\"car_age\") == \"new\") & ((col(\"last_oil_change\") == \"new\") | (col(\"last_oil_change\") == \"50km\") | (col(\"last_oil_change\") == \"80km\")), \"normal\")\n",
    "                   .otherwise(\"about to fail\"))\n",
    "\n",
    "# df = df.drop(\"date_insertion\", \"speed\",)\n",
    "\n",
    "\n",
    "\n",
    "\n",
    "df.show()\n"
   ]
  },
  {
   "cell_type": "code",
   "execution_count": null,
   "metadata": {},
   "outputs": [],
   "source": []
  },
  {
   "cell_type": "code",
   "execution_count": 17,
   "metadata": {},
   "outputs": [
    {
     "name": "stderr",
     "output_type": "stream",
     "text": [
      "24/04/18 23:48:39 WARN WindowExec: No Partition Defined for Window operation! Moving all data to a single partition, this can cause serious performance degradation.\n",
      "24/04/18 23:48:39 WARN WindowExec: No Partition Defined for Window operation! Moving all data to a single partition, this can cause serious performance degradation.\n",
      "24/04/18 23:48:39 WARN WindowExec: No Partition Defined for Window operation! Moving all data to a single partition, this can cause serious performance degradation.\n",
      "24/04/18 23:48:39 WARN WindowExec: No Partition Defined for Window operation! Moving all data to a single partition, this can cause serious performance degradation.\n",
      "24/04/18 23:48:39 WARN WindowExec: No Partition Defined for Window operation! Moving all data to a single partition, this can cause serious performance degradation.\n",
      "24/04/18 23:48:39 WARN WindowExec: No Partition Defined for Window operation! Moving all data to a single partition, this can cause serious performance degradation.\n",
      "24/04/18 23:48:39 WARN WindowExec: No Partition Defined for Window operation! Moving all data to a single partition, this can cause serious performance degradation.\n",
      "24/04/18 23:48:39 WARN WindowExec: No Partition Defined for Window operation! Moving all data to a single partition, this can cause serious performance degradation.\n"
     ]
    },
    {
     "name": "stdout",
     "output_type": "stream",
     "text": [
      "   engine_status  power_supply_voltage oil_value fuel_liters  fuel_change  \\\n",
      "1              1                 22.18       2.1        13.8        -45.7   \n",
      "2              1                 22.20       1.0         2.2        -11.6   \n",
      "3              1                 22.32       1.3        44.2         42.0   \n",
      "4              1                 22.22       3.2        24.3        -19.9   \n",
      "5              0                 22.40       2.5         7.4        -16.9   \n",
      "\n",
      "   car_age  last_oil_change  \n",
      "1        0                3  \n",
      "2        0                2  \n",
      "3        0                2  \n",
      "4        0                0  \n",
      "5        0                1  \n"
     ]
    }
   ],
   "source": [
    "from pyspark.ml.feature import StringIndexer\n",
    "from keras.utils import to_categorical\n",
    "from sklearn.preprocessing import MinMaxScaler\n",
    "import numpy as np\n",
    "from pyspark.ml.feature import OneHotEncoder\n",
    "\n",
    "\n",
    "\n",
    "df = df.withColumn(\"status\", \n",
    "                   when(col(\"status\") == \"normal\", 0)\n",
    "                   .when(col(\"status\") == \"about to fail\", 1)\n",
    "                   .otherwise(2))\n",
    "\n",
    "df = df.withColumn(\"car_age\", \n",
    "                   when(col(\"car_age\") == \"old\", 0)\n",
    "                   .when(col(\"car_age\") == \"new\", 1)\n",
    "\n",
    "\n",
    "\n",
    ")\n",
    "\n",
    "\n",
    "df = df.withColumn(\"last_oil_change\", \n",
    "                   when(col(\"last_oil_change\") == \"new\", 0)\n",
    "                   .when(col(\"last_oil_change\") == \"50km\", 1)\n",
    "                   .when(col(\"last_oil_change\") == \"80km\", 2)\n",
    "                   .otherwise(3))\n",
    "\n",
    "# Cast 'statusIndex' to integer\n",
    "\n",
    "# Select features and label\n",
    "features = df.drop('status')\n",
    "label = df.select('status')\n",
    "\n",
    "# Convert Spark DataFrame to pandas DataFrame\n",
    "features_pd = features.toPandas()\n",
    "label_pd = label.toPandas()\n",
    "\n",
    "\n",
    "# Remove rows with any null value\n",
    "features_pd = features_pd.dropna()\n",
    "label_pd = label_pd.loc[features_pd.index] \n",
    "\n",
    "# Remove 'thing_id' and 'date' from features\n",
    "features_pd = features_pd.drop(['thing_id', 'date_insertion','speed','total_km','battery_current_change','daily_avg_voltage'], axis=1)\n",
    "\n",
    "print(features_pd.head())\n",
    "\n",
    "\n",
    "# Convert pandas DataFrame to NumPy array\n",
    "features_array = features_pd.values\n",
    "label_array = label_pd.values\n",
    "\n",
    "# Convert labels to one-hot encoded format\n",
    "label_array = to_categorical(label_array, num_classes=3)\n",
    "\n",
    "# Scale features to range [0, 1]\n",
    "scaler = MinMaxScaler(feature_range=(0, 1))\n",
    "scaled_features = scaler.fit_transform(features_array)\n",
    "\n",
    "\n",
    "\n",
    "# Reshape to 3D array (batch_size, timesteps, input_dim)\n",
    "scaled_features = np.reshape(scaled_features, (scaled_features.shape[0], 1, scaled_features.shape[1]))"
   ]
  },
  {
   "cell_type": "code",
   "execution_count": 18,
   "metadata": {},
   "outputs": [
    {
     "name": "stderr",
     "output_type": "stream",
     "text": [
      "/Users/mac/Library/Python/3.9/lib/python/site-packages/keras/src/layers/rnn/rnn.py:204: UserWarning: Do not pass an `input_shape`/`input_dim` argument to a layer. When using Sequential models, prefer using an `Input(shape)` object as the first layer in the model instead.\n",
      "  super().__init__(**kwargs)\n"
     ]
    }
   ],
   "source": [
    "import tensorflow as tf\n",
    "from tensorflow.keras.models import Sequential\n",
    "from tensorflow.keras.layers import LSTM, Dense\n",
    "\n",
    "# Define the LSTM model\n",
    "model = Sequential()\n",
    "model.add(LSTM(50, input_shape=(scaled_features.shape[1], scaled_features.shape[2])))\n",
    "model.add(Dense(3,activation='softmax'))"
   ]
  },
  {
   "cell_type": "code",
   "execution_count": 19,
   "metadata": {},
   "outputs": [],
   "source": [
    "# from tensorflow.keras.optimizers import Adam\n",
    "\n",
    "model.compile(loss='categorical_crossentropy', optimizer='adam')# Fit the model\n"
   ]
  },
  {
   "cell_type": "code",
   "execution_count": 26,
   "metadata": {},
   "outputs": [
    {
     "name": "stdout",
     "output_type": "stream",
     "text": [
      "Epoch 1/50\n",
      "\u001b[1m9/9\u001b[0m \u001b[32m━━━━━━━━━━━━━━━━━━━━\u001b[0m\u001b[37m\u001b[0m \u001b[1m0s\u001b[0m 6ms/step - loss: 0.0176 - val_loss: 0.0230\n",
      "Epoch 2/50\n",
      "\u001b[1m9/9\u001b[0m \u001b[32m━━━━━━━━━━━━━━━━━━━━\u001b[0m\u001b[37m\u001b[0m \u001b[1m0s\u001b[0m 2ms/step - loss: 0.0172 - val_loss: 0.0228\n",
      "Epoch 3/50\n",
      "\u001b[1m9/9\u001b[0m \u001b[32m━━━━━━━━━━━━━━━━━━━━\u001b[0m\u001b[37m\u001b[0m \u001b[1m0s\u001b[0m 2ms/step - loss: 0.0169 - val_loss: 0.0226\n",
      "Epoch 4/50\n",
      "\u001b[1m9/9\u001b[0m \u001b[32m━━━━━━━━━━━━━━━━━━━━\u001b[0m\u001b[37m\u001b[0m \u001b[1m0s\u001b[0m 2ms/step - loss: 0.0166 - val_loss: 0.0224\n",
      "Epoch 5/50\n",
      "\u001b[1m9/9\u001b[0m \u001b[32m━━━━━━━━━━━━━━━━━━━━\u001b[0m\u001b[37m\u001b[0m \u001b[1m0s\u001b[0m 2ms/step - loss: 0.0163 - val_loss: 0.0222\n",
      "Epoch 6/50\n",
      "\u001b[1m9/9\u001b[0m \u001b[32m━━━━━━━━━━━━━━━━━━━━\u001b[0m\u001b[37m\u001b[0m \u001b[1m0s\u001b[0m 2ms/step - loss: 0.0160 - val_loss: 0.0220\n",
      "Epoch 7/50\n",
      "\u001b[1m9/9\u001b[0m \u001b[32m━━━━━━━━━━━━━━━━━━━━\u001b[0m\u001b[37m\u001b[0m \u001b[1m0s\u001b[0m 2ms/step - loss: 0.0157 - val_loss: 0.0218\n",
      "Epoch 8/50\n",
      "\u001b[1m9/9\u001b[0m \u001b[32m━━━━━━━━━━━━━━━━━━━━\u001b[0m\u001b[37m\u001b[0m \u001b[1m0s\u001b[0m 2ms/step - loss: 0.0154 - val_loss: 0.0217\n",
      "Epoch 9/50\n",
      "\u001b[1m9/9\u001b[0m \u001b[32m━━━━━━━━━━━━━━━━━━━━\u001b[0m\u001b[37m\u001b[0m \u001b[1m0s\u001b[0m 2ms/step - loss: 0.0152 - val_loss: 0.0215\n",
      "Epoch 10/50\n",
      "\u001b[1m9/9\u001b[0m \u001b[32m━━━━━━━━━━━━━━━━━━━━\u001b[0m\u001b[37m\u001b[0m \u001b[1m0s\u001b[0m 2ms/step - loss: 0.0149 - val_loss: 0.0213\n",
      "Epoch 11/50\n",
      "\u001b[1m9/9\u001b[0m \u001b[32m━━━━━━━━━━━━━━━━━━━━\u001b[0m\u001b[37m\u001b[0m \u001b[1m0s\u001b[0m 2ms/step - loss: 0.0146 - val_loss: 0.0212\n",
      "Epoch 12/50\n",
      "\u001b[1m9/9\u001b[0m \u001b[32m━━━━━━━━━━━━━━━━━━━━\u001b[0m\u001b[37m\u001b[0m \u001b[1m0s\u001b[0m 2ms/step - loss: 0.0144 - val_loss: 0.0210\n",
      "Epoch 13/50\n",
      "\u001b[1m9/9\u001b[0m \u001b[32m━━━━━━━━━━━━━━━━━━━━\u001b[0m\u001b[37m\u001b[0m \u001b[1m0s\u001b[0m 2ms/step - loss: 0.0141 - val_loss: 0.0208\n",
      "Epoch 14/50\n",
      "\u001b[1m9/9\u001b[0m \u001b[32m━━━━━━━━━━━━━━━━━━━━\u001b[0m\u001b[37m\u001b[0m \u001b[1m0s\u001b[0m 2ms/step - loss: 0.0139 - val_loss: 0.0207\n",
      "Epoch 15/50\n",
      "\u001b[1m9/9\u001b[0m \u001b[32m━━━━━━━━━━━━━━━━━━━━\u001b[0m\u001b[37m\u001b[0m \u001b[1m0s\u001b[0m 2ms/step - loss: 0.0137 - val_loss: 0.0205\n",
      "Epoch 16/50\n",
      "\u001b[1m9/9\u001b[0m \u001b[32m━━━━━━━━━━━━━━━━━━━━\u001b[0m\u001b[37m\u001b[0m \u001b[1m0s\u001b[0m 2ms/step - loss: 0.0134 - val_loss: 0.0204\n",
      "Epoch 17/50\n",
      "\u001b[1m9/9\u001b[0m \u001b[32m━━━━━━━━━━━━━━━━━━━━\u001b[0m\u001b[37m\u001b[0m \u001b[1m0s\u001b[0m 2ms/step - loss: 0.0132 - val_loss: 0.0203\n",
      "Epoch 18/50\n",
      "\u001b[1m9/9\u001b[0m \u001b[32m━━━━━━━━━━━━━━━━━━━━\u001b[0m\u001b[37m\u001b[0m \u001b[1m0s\u001b[0m 2ms/step - loss: 0.0130 - val_loss: 0.0201\n",
      "Epoch 19/50\n",
      "\u001b[1m9/9\u001b[0m \u001b[32m━━━━━━━━━━━━━━━━━━━━\u001b[0m\u001b[37m\u001b[0m \u001b[1m0s\u001b[0m 2ms/step - loss: 0.0128 - val_loss: 0.0200\n",
      "Epoch 20/50\n",
      "\u001b[1m9/9\u001b[0m \u001b[32m━━━━━━━━━━━━━━━━━━━━\u001b[0m\u001b[37m\u001b[0m \u001b[1m0s\u001b[0m 2ms/step - loss: 0.0126 - val_loss: 0.0198\n",
      "Epoch 21/50\n",
      "\u001b[1m9/9\u001b[0m \u001b[32m━━━━━━━━━━━━━━━━━━━━\u001b[0m\u001b[37m\u001b[0m \u001b[1m0s\u001b[0m 2ms/step - loss: 0.0124 - val_loss: 0.0197\n",
      "Epoch 22/50\n",
      "\u001b[1m9/9\u001b[0m \u001b[32m━━━━━━━━━━━━━━━━━━━━\u001b[0m\u001b[37m\u001b[0m \u001b[1m0s\u001b[0m 2ms/step - loss: 0.0122 - val_loss: 0.0196\n",
      "Epoch 23/50\n",
      "\u001b[1m9/9\u001b[0m \u001b[32m━━━━━━━━━━━━━━━━━━━━\u001b[0m\u001b[37m\u001b[0m \u001b[1m0s\u001b[0m 2ms/step - loss: 0.0120 - val_loss: 0.0195\n",
      "Epoch 24/50\n",
      "\u001b[1m9/9\u001b[0m \u001b[32m━━━━━━━━━━━━━━━━━━━━\u001b[0m\u001b[37m\u001b[0m \u001b[1m0s\u001b[0m 2ms/step - loss: 0.0118 - val_loss: 0.0194\n",
      "Epoch 25/50\n",
      "\u001b[1m9/9\u001b[0m \u001b[32m━━━━━━━━━━━━━━━━━━━━\u001b[0m\u001b[37m\u001b[0m \u001b[1m0s\u001b[0m 3ms/step - loss: 0.0116 - val_loss: 0.0192\n",
      "Epoch 26/50\n",
      "\u001b[1m9/9\u001b[0m \u001b[32m━━━━━━━━━━━━━━━━━━━━\u001b[0m\u001b[37m\u001b[0m \u001b[1m0s\u001b[0m 2ms/step - loss: 0.0114 - val_loss: 0.0191\n",
      "Epoch 27/50\n",
      "\u001b[1m9/9\u001b[0m \u001b[32m━━━━━━━━━━━━━━━━━━━━\u001b[0m\u001b[37m\u001b[0m \u001b[1m0s\u001b[0m 2ms/step - loss: 0.0112 - val_loss: 0.0190\n",
      "Epoch 28/50\n",
      "\u001b[1m9/9\u001b[0m \u001b[32m━━━━━━━━━━━━━━━━━━━━\u001b[0m\u001b[37m\u001b[0m \u001b[1m0s\u001b[0m 2ms/step - loss: 0.0110 - val_loss: 0.0189\n",
      "Epoch 29/50\n",
      "\u001b[1m9/9\u001b[0m \u001b[32m━━━━━━━━━━━━━━━━━━━━\u001b[0m\u001b[37m\u001b[0m \u001b[1m0s\u001b[0m 2ms/step - loss: 0.0109 - val_loss: 0.0188\n",
      "Epoch 30/50\n",
      "\u001b[1m9/9\u001b[0m \u001b[32m━━━━━━━━━━━━━━━━━━━━\u001b[0m\u001b[37m\u001b[0m \u001b[1m0s\u001b[0m 2ms/step - loss: 0.0107 - val_loss: 0.0187\n",
      "Epoch 31/50\n",
      "\u001b[1m9/9\u001b[0m \u001b[32m━━━━━━━━━━━━━━━━━━━━\u001b[0m\u001b[37m\u001b[0m \u001b[1m0s\u001b[0m 2ms/step - loss: 0.0105 - val_loss: 0.0186\n",
      "Epoch 32/50\n",
      "\u001b[1m9/9\u001b[0m \u001b[32m━━━━━━━━━━━━━━━━━━━━\u001b[0m\u001b[37m\u001b[0m \u001b[1m0s\u001b[0m 2ms/step - loss: 0.0104 - val_loss: 0.0185\n",
      "Epoch 33/50\n",
      "\u001b[1m9/9\u001b[0m \u001b[32m━━━━━━━━━━━━━━━━━━━━\u001b[0m\u001b[37m\u001b[0m \u001b[1m0s\u001b[0m 2ms/step - loss: 0.0102 - val_loss: 0.0184\n",
      "Epoch 34/50\n",
      "\u001b[1m9/9\u001b[0m \u001b[32m━━━━━━━━━━━━━━━━━━━━\u001b[0m\u001b[37m\u001b[0m \u001b[1m0s\u001b[0m 2ms/step - loss: 0.0101 - val_loss: 0.0183\n",
      "Epoch 35/50\n",
      "\u001b[1m9/9\u001b[0m \u001b[32m━━━━━━━━━━━━━━━━━━━━\u001b[0m\u001b[37m\u001b[0m \u001b[1m0s\u001b[0m 2ms/step - loss: 0.0099 - val_loss: 0.0182\n",
      "Epoch 36/50\n",
      "\u001b[1m9/9\u001b[0m \u001b[32m━━━━━━━━━━━━━━━━━━━━\u001b[0m\u001b[37m\u001b[0m \u001b[1m0s\u001b[0m 2ms/step - loss: 0.0098 - val_loss: 0.0181\n",
      "Epoch 37/50\n",
      "\u001b[1m9/9\u001b[0m \u001b[32m━━━━━━━━━━━━━━━━━━━━\u001b[0m\u001b[37m\u001b[0m \u001b[1m0s\u001b[0m 2ms/step - loss: 0.0096 - val_loss: 0.0180\n",
      "Epoch 38/50\n",
      "\u001b[1m9/9\u001b[0m \u001b[32m━━━━━━━━━━━━━━━━━━━━\u001b[0m\u001b[37m\u001b[0m \u001b[1m0s\u001b[0m 2ms/step - loss: 0.0095 - val_loss: 0.0180\n",
      "Epoch 39/50\n",
      "\u001b[1m9/9\u001b[0m \u001b[32m━━━━━━━━━━━━━━━━━━━━\u001b[0m\u001b[37m\u001b[0m \u001b[1m0s\u001b[0m 2ms/step - loss: 0.0093 - val_loss: 0.0179\n",
      "Epoch 40/50\n",
      "\u001b[1m9/9\u001b[0m \u001b[32m━━━━━━━━━━━━━━━━━━━━\u001b[0m\u001b[37m\u001b[0m \u001b[1m0s\u001b[0m 2ms/step - loss: 0.0092 - val_loss: 0.0178\n",
      "Epoch 41/50\n",
      "\u001b[1m9/9\u001b[0m \u001b[32m━━━━━━━━━━━━━━━━━━━━\u001b[0m\u001b[37m\u001b[0m \u001b[1m0s\u001b[0m 2ms/step - loss: 0.0091 - val_loss: 0.0177\n",
      "Epoch 42/50\n",
      "\u001b[1m9/9\u001b[0m \u001b[32m━━━━━━━━━━━━━━━━━━━━\u001b[0m\u001b[37m\u001b[0m \u001b[1m0s\u001b[0m 2ms/step - loss: 0.0089 - val_loss: 0.0176\n",
      "Epoch 43/50\n",
      "\u001b[1m9/9\u001b[0m \u001b[32m━━━━━━━━━━━━━━━━━━━━\u001b[0m\u001b[37m\u001b[0m \u001b[1m0s\u001b[0m 3ms/step - loss: 0.0088 - val_loss: 0.0176\n",
      "Epoch 44/50\n",
      "\u001b[1m9/9\u001b[0m \u001b[32m━━━━━━━━━━━━━━━━━━━━\u001b[0m\u001b[37m\u001b[0m \u001b[1m0s\u001b[0m 2ms/step - loss: 0.0087 - val_loss: 0.0175\n",
      "Epoch 45/50\n",
      "\u001b[1m9/9\u001b[0m \u001b[32m━━━━━━━━━━━━━━━━━━━━\u001b[0m\u001b[37m\u001b[0m \u001b[1m0s\u001b[0m 2ms/step - loss: 0.0086 - val_loss: 0.0174\n",
      "Epoch 46/50\n",
      "\u001b[1m9/9\u001b[0m \u001b[32m━━━━━━━━━━━━━━━━━━━━\u001b[0m\u001b[37m\u001b[0m \u001b[1m0s\u001b[0m 2ms/step - loss: 0.0084 - val_loss: 0.0173\n",
      "Epoch 47/50\n",
      "\u001b[1m9/9\u001b[0m \u001b[32m━━━━━━━━━━━━━━━━━━━━\u001b[0m\u001b[37m\u001b[0m \u001b[1m0s\u001b[0m 2ms/step - loss: 0.0083 - val_loss: 0.0173\n",
      "Epoch 48/50\n",
      "\u001b[1m9/9\u001b[0m \u001b[32m━━━━━━━━━━━━━━━━━━━━\u001b[0m\u001b[37m\u001b[0m \u001b[1m0s\u001b[0m 2ms/step - loss: 0.0082 - val_loss: 0.0172\n",
      "Epoch 49/50\n",
      "\u001b[1m9/9\u001b[0m \u001b[32m━━━━━━━━━━━━━━━━━━━━\u001b[0m\u001b[37m\u001b[0m \u001b[1m0s\u001b[0m 2ms/step - loss: 0.0081 - val_loss: 0.0171\n",
      "Epoch 50/50\n",
      "\u001b[1m9/9\u001b[0m \u001b[32m━━━━━━━━━━━━━━━━━━━━\u001b[0m\u001b[37m\u001b[0m \u001b[1m0s\u001b[0m 3ms/step - loss: 0.0080 - val_loss: 0.0171\n"
     ]
    },
    {
     "name": "stderr",
     "output_type": "stream",
     "text": [
      "WARNING:absl:You are saving your model as an HDF5 file via `model.save()` or `keras.saving.save_model(model)`. This file format is considered legacy. We recommend using instead the native Keras format, e.g. `model.save('my_model.keras')` or `keras.saving.save_model(model, 'my_model.keras')`. \n",
      "WARNING:absl:You are saving your model as an HDF5 file via `model.save()` or `keras.saving.save_model(model)`. This file format is considered legacy. We recommend using instead the native Keras format, e.g. `model.save('my_model.keras')` or `keras.saving.save_model(model, 'my_model.keras')`. \n"
     ]
    },
    {
     "data": {
      "text/plain": [
       "['my_scaler.pkl']"
      ]
     },
     "execution_count": 26,
     "metadata": {},
     "output_type": "execute_result"
    }
   ],
   "source": [
    "from sklearn.model_selection import train_test_split\n",
    "import pickle\n",
    "\n",
    "# Split the data into a training set and a test set\n",
    "\n",
    "# Split the data into a training set and a test set\n",
    "features_train, features_test, label_train, label_test = train_test_split(scaled_features, label_array, test_size=0.2, random_state=42)\n",
    "\n",
    "# Train the model on the training set\n",
    "history = model.fit(features_train, label_train, epochs=50, batch_size=72, validation_split=0.2, shuffle=False)\n",
    "\n",
    "\n",
    "\n",
    "# Assuming 'model' is your trained Keras model\n",
    "model.save('my_model.h5')\n",
    "model.save('/Users/mac/Documents/pfe/backend/datahub/pm_model.h5')\n",
    "\n",
    "\n",
    "import joblib\n",
    "\n",
    "# Assuming 'scaler' is your fitted MinMaxScaler\n",
    "joblib.dump(scaler, 'my_scaler.pkl')\n",
    "\n",
    "\n"
   ]
  },
  {
   "cell_type": "code",
   "execution_count": 23,
   "metadata": {},
   "outputs": [
    {
     "name": "stdout",
     "output_type": "stream",
     "text": [
      "dict_keys(['loss', 'val_loss'])\n"
     ]
    },
    {
     "data": {
      "image/png": "[encoded data removed]",
      "text/plain": [
       "<Figure size 640x480 with 1 Axes>"
      ]
     },
     "metadata": {},
     "output_type": "display_data"
    }
   ],
   "source": [
    "# Plot history\n",
    "from matplotlib import pyplot\n",
    "# Check the keys in the history object\n",
    "print(history.history.keys())\n",
    "\n",
    "pyplot.plot(history.history['loss'], label='train')\n",
    "pyplot.plot(history.history['val_loss'], label='test')\n",
    "pyplot.legend()\n",
    "pyplot.show()"
   ]
  },
  {
   "cell_type": "code",
   "execution_count": 24,
   "metadata": {},
   "outputs": [
    {
     "name": "stdout",
     "output_type": "stream",
     "text": [
      "\u001b[1m1/7\u001b[0m \u001b[32m━━\u001b[0m\u001b[37m━━━━━━━━━━━━━━━━━━\u001b[0m \u001b[1m0s\u001b[0m 72ms/stepWARNING:tensorflow:5 out of the last 15 calls to <function TensorFlowTrainer.make_predict_function.<locals>.one_step_on_data_distributed at 0x298cfb040> triggered tf.function retracing. Tracing is expensive and the excessive number of tracings could be due to (1) creating @tf.function repeatedly in a loop, (2) passing tensors with different shapes, (3) passing Python objects instead of tensors. For (1), please define your @tf.function outside of the loop. For (2), @tf.function has reduce_retracing=True option that can avoid unnecessary retracing. For (3), please refer to https://www.tensorflow.org/guide/function#controlling_retracing and https://www.tensorflow.org/api_docs/python/tf/function for  more details.\n"
     ]
    },
    {
     "name": "stderr",
     "output_type": "stream",
     "text": [
      "WARNING:tensorflow:5 out of the last 15 calls to <function TensorFlowTrainer.make_predict_function.<locals>.one_step_on_data_distributed at 0x298cfb040> triggered tf.function retracing. Tracing is expensive and the excessive number of tracings could be due to (1) creating @tf.function repeatedly in a loop, (2) passing tensors with different shapes, (3) passing Python objects instead of tensors. For (1), please define your @tf.function outside of the loop. For (2), @tf.function has reduce_retracing=True option that can avoid unnecessary retracing. For (3), please refer to https://www.tensorflow.org/guide/function#controlling_retracing and https://www.tensorflow.org/api_docs/python/tf/function for  more details.\n"
     ]
    },
    {
     "name": "stdout",
     "output_type": "stream",
     "text": [
      "\u001b[1m7/7\u001b[0m \u001b[32m━━━━━━━━━━━━━━━━━━━━\u001b[0m\u001b[37m\u001b[0m \u001b[1m0s\u001b[0m 10ms/step\n"
     ]
    }
   ],
   "source": [
    "# Make predictions on the test set\n",
    "predictions = model.predict(features_test)\n",
    "\n",
    "# Convert predicted probabilities to class labels\n",
    "predicted_classes = np.argmax(predictions, axis=1)\n",
    "\n"
   ]
  },
  {
   "cell_type": "code",
   "execution_count": 25,
   "metadata": {},
   "outputs": [
    {
     "name": "stdout",
     "output_type": "stream",
     "text": [
      "\u001b[1m7/7\u001b[0m \u001b[32m━━━━━━━━━━━━━━━━━━━━\u001b[0m\u001b[37m\u001b[0m \u001b[1m0s\u001b[0m 2ms/step \n"
     ]
    },
    {
     "data": {
      "image/png": "[encoded data removed]",
      "text/plain": [
       "<Figure size 1000x700 with 2 Axes>"
      ]
     },
     "metadata": {},
     "output_type": "display_data"
    },
    {
     "name": "stdout",
     "output_type": "stream",
     "text": [
      "Recall: 0.995\n"
     ]
    }
   ],
   "source": [
    "from sklearn.metrics import confusion_matrix\n",
    "import seaborn as sns\n",
    "import matplotlib.pyplot as plt\n",
    "\n",
    "# Make predictions on the test set\n",
    "predictions = model.predict(features_test)\n",
    "\n",
    "# Convert predicted probabilities to class labels\n",
    "predicted_classes = np.argmax(predictions, axis=1)\n",
    "\n",
    "# Convert true labels to class labels\n",
    "true_classes = np.argmax(label_test, axis=1)\n",
    "\n",
    "# Calculate the confusion matrix\n",
    "cm = confusion_matrix(true_classes, predicted_classes)\n",
    "\n",
    "# Plot the confusion matrix\n",
    "plt.figure(figsize=(10, 7))\n",
    "sns.heatmap(cm, annot=True, fmt='d')\n",
    "plt.xlabel('Predicted')\n",
    "plt.ylabel('True')\n",
    "plt.show()\n",
    "\n",
    "from sklearn.metrics import recall_score\n",
    "\n",
    "# Assuming y_test are the true labels and y_pred are the predicted labels\n",
    "recall = recall_score(true_classes, predicted_classes, average='micro')  # for binary classification\n",
    "print(f\"Recall: {recall}\")"
   ]
  },
  {
   "cell_type": "code",
   "execution_count": null,
   "metadata": {},
   "outputs": [
    {
     "name": "stderr",
     "output_type": "stream",
     "text": [
      "WARNING:absl:Compiled the loaded model, but the compiled metrics have yet to be built. `model.compile_metrics` will be empty until you train or evaluate the model.\n"
     ]
    },
    {
     "name": "stdout",
     "output_type": "stream",
     "text": [
      "\u001b[1m1/1\u001b[0m \u001b[32m━━━━━━━━━━━━━━━━━━━━\u001b[0m\u001b[37m\u001b[0m \u001b[1m0s\u001b[0m 61ms/step\n",
      "Predicted class: 2\n"
     ]
    },
    {
     "name": "stderr",
     "output_type": "stream",
     "text": [
      "/Users/mac/Library/Python/3.9/lib/python/site-packages/sklearn/base.py:486: UserWarning: X has feature names, but MinMaxScaler was fitted without feature names\n",
      "  warnings.warn(\n"
     ]
    }
   ],
   "source": [
    "import pandas as pd\n",
    "import numpy as np\n",
    "from keras.models import load_model\n",
    "from sklearn.preprocessing import MinMaxScaler\n",
    "import joblib\n",
    "\n",
    "# Load your trained model\n",
    "model = load_model('/Users/mac/prediction/my_model.h5')\n",
    "\n",
    "# Load your fitted scaler\n",
    "scaler = joblib.load('/Users/mac/prediction/my_scaler.pkl')\n",
    "\n",
    "# Create a new test event\n",
    "new_event = pd.DataFrame({\n",
    "    'engine_status': [1],  # new engine_status\n",
    "    'power_supply_voltage': [22.18],  # new power_supply_voltage\n",
    "    'oil_value': [3.0],  # new oil_value\n",
    "    'fuel_liters': [4.6],  # new fuel_liters\n",
    "    'fuel_change': [-3.6],  # new fuel_change\n",
    "    'car_age': [0],  # new car_age\n",
    "    'last_oil_change': [3]  # new last_oil_change\n",
    "}, index=[0])\n",
    "\n",
    "# Scale the new event using the saved scaler\n",
    "new_event_scaled = scaler.transform(new_event)\n",
    "\n",
    "# Reshape to 3D array (samples, timesteps, features)\n",
    "new_event_array = new_event_scaled.reshape((1, 1, new_event_scaled.shape[1]))\n",
    "\n",
    "# Use the Keras model to make a prediction\n",
    "prediction = model.predict(new_event_array)\n",
    "\n",
    "# Get the predicted class\n",
    "predicted_class = np.argmax(prediction)\n",
    "\n",
    "print(f\"Predicted class: {predicted_class}\")\n",
    "\n"
   ]
  }
 ],
 "metadata": {
  "kernelspec": {
   "display_name": "Python 3",
   "language": "python",
   "name": "python3"
  },
  "language_info": {
   "codemirror_mode": {
    "name": "ipython",
    "version": 3
   },
   "file_extension": ".py",
   "mimetype": "text/x-python",
   "name": "python",
   "nbconvert_exporter": "python",
   "pygments_lexer": "ipython3",
   "version": "3.9.18"
  }
 },
 "nbformat": 4,
 "nbformat_minor": 2
}
